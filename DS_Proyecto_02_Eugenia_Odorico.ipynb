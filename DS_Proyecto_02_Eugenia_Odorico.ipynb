{
  "nbformat": 4,
  "nbformat_minor": 0,
  "metadata": {
    "colab": {
      "provenance": [],
      "collapsed_sections": [
        "Qib8SGpqx5mO",
        "KX4MIgOTy22l",
        "Ojk4qy3DzQCr",
        "IYuTnQdT0E6I",
        "TQ35nNg50iv-",
        "IVi_Md_S2TRs"
      ],
      "toc_visible": true
    },
    "kernelspec": {
      "display_name": "Python 3",
      "name": "python3"
    },
    "language_info": {
      "name": "python"
    }
  },
  "cells": [
    {
      "cell_type": "markdown",
      "metadata": {
        "id": "5kSNA-de9Rbw"
      },
      "source": [
        "#**Proyecto 2**\n",
        "\n",
        "En este proyecto profundizarás lo desarrollado en el proyecto 01 (“Primer modelo de Machine Learning”). El objetivo es aplicar las técnicas incorporadas (Transformación de Datos, Optimización de Hiperparámetros, Modelos Avanzados, etc.) para generar un modelo que tenga un mejor desempeño que el modelo generado en el proyecto anterior. Luego, interpreta ese modelo para responder la siguiente pregunta: ¿qué podemos aprender de nuestro problema estudiando el modelo que generamos?"
      ]
    },
    {
      "cell_type": "code",
      "metadata": {
        "id": "E3O0_S3h6QkZ"
      },
      "source": [
        "import pandas as pd\n",
        "import numpy as np\n",
        "import matplotlib.pyplot as plt\n",
        "import seaborn as sns\n",
        "from sklearn.model_selection import train_test_split\n",
        "from sklearn.tree import DecisionTreeClassifier\n",
        "from sklearn.neighbors import KNeighborsClassifier\n",
        "from sklearn.metrics import classification_report, confusion_matrix, accuracy_score\n",
        "from sklearn.linear_model import LinearRegression\n",
        "from sklearn.tree import DecisionTreeRegressor\n",
        "from sklearn.neighbors import KNeighborsRegressor\n",
        "from sklearn.metrics import mean_squared_error\n",
        "from sklearn.preprocessing import StandardScaler\n",
        "from sklearn.ensemble import RandomForestRegressor\n",
        "from sklearn.ensemble import AdaBoostClassifier"
      ],
      "execution_count": null,
      "outputs": []
    },
    {
      "cell_type": "code",
      "metadata": {
        "colab": {
          "base_uri": "https://localhost:8080/"
        },
        "id": "9-q8QFdI6e1i",
        "outputId": "f7f85d31-ce02-4a2a-e001-2514b67bfbad"
      },
      "source": [
        "from google.colab import drive\n",
        "drive.mount('/content/drive')"
      ],
      "execution_count": null,
      "outputs": [
        {
          "output_type": "stream",
          "text": [
            "Drive already mounted at /content/drive; to attempt to forcibly remount, call drive.mount(\"/content/drive\", force_remount=True).\n"
          ],
          "name": "stdout"
        }
      ]
    },
    {
      "cell_type": "code",
      "metadata": {
        "id": "urOqRz3q6pLC"
      },
      "source": [
        "properati = pd.read_csv('/content/drive/MyDrive/Colab Notebooks/Dataset/DS_Proyecto_01_Datos_Properati.csv')"
      ],
      "execution_count": null,
      "outputs": []
    },
    {
      "cell_type": "code",
      "metadata": {
        "id": "kjN33uWVwaYi"
      },
      "source": [
        "prope = properati.copy()"
      ],
      "execution_count": null,
      "outputs": []
    },
    {
      "cell_type": "code",
      "metadata": {
        "colab": {
          "base_uri": "https://localhost:8080/"
        },
        "id": "I-hhqBwU_etZ",
        "outputId": "9de388d5-7e8f-4392-ad5d-0e203fe48182"
      },
      "source": [
        "print(prope.shape)"
      ],
      "execution_count": null,
      "outputs": [
        {
          "output_type": "stream",
          "text": [
            "(146660, 19)\n"
          ],
          "name": "stdout"
        }
      ]
    },
    {
      "cell_type": "markdown",
      "metadata": {
        "id": "1SzTBgdd8H8F"
      },
      "source": [
        "El trabajo se organiza en tres partes:\n",
        "\n",
        "##PARTE A - Transformación de Datos\n",
        "\n",
        "Elige cuáles de las siguientes tareas son apropiadas para su dataset. Implementa las transformaciones que elegiste. Es importante que justifiques por qué las haces:\n",
        "\n",
        "1.   Detección y eliminación de Outliers\n",
        "2.   Encoding\n",
        "3.   Imputación de valores faltantes\n",
        "4.   Escalado de datos\n",
        "5.   Generación de nuevas variables predictoras/reducción de dimensionalidad (SVD/PCA).\n",
        "\n",
        "\n",
        "Vuelve a entrenar el modelo implementado en la Entrega 01 - en particular, el árbol de decisión - con este nuevo dataset transformado. Evalúa su desempeño a partir del dataset obtenido luego de transformar los datos. ¿Hay una mejora en su desempeño? Compara con el desempeño obtenido en el proyecto 01. Sea cual sea la respuesta, intenta explicar a qué se debe."
      ]
    },
    {
      "cell_type": "markdown",
      "metadata": {
        "id": "Qib8SGpqx5mO"
      },
      "source": [
        "> #### **Visualización de valores faltantes**"
      ]
    },
    {
      "cell_type": "code",
      "metadata": {
        "colab": {
          "base_uri": "https://localhost:8080/"
        },
        "id": "3WtYidP7gDbr",
        "outputId": "80284b3d-4103-484d-b13c-06ead7588f39"
      },
      "source": [
        "# Cantidad de valores faltantes por columna\n",
        "print(prope.isna().sum())"
      ],
      "execution_count": null,
      "outputs": [
        {
          "output_type": "stream",
          "text": [
            "start_date             0\n",
            "end_date               0\n",
            "created_on             0\n",
            "lat                 9925\n",
            "lon                 9959\n",
            "l1                     0\n",
            "l2                     0\n",
            "l3                     0\n",
            "rooms                  0\n",
            "bedrooms               0\n",
            "bathrooms           5957\n",
            "surface_total      20527\n",
            "surface_covered    21614\n",
            "price                  0\n",
            "currency               0\n",
            "title                  0\n",
            "description            0\n",
            "property_type          0\n",
            "operation_type         0\n",
            "dtype: int64\n"
          ],
          "name": "stdout"
        }
      ]
    },
    {
      "cell_type": "code",
      "metadata": {
        "colab": {
          "base_uri": "https://localhost:8080/"
        },
        "id": "flKTS0cBrg9G",
        "outputId": "ee52a80c-ac2e-4de4-afec-bfdf7e3d1396"
      },
      "source": [
        "prope = prope.drop_duplicates()\n",
        "print(prope.shape)"
      ],
      "execution_count": null,
      "outputs": [
        {
          "output_type": "stream",
          "text": [
            "(144302, 19)\n"
          ],
          "name": "stdout"
        }
      ]
    },
    {
      "cell_type": "code",
      "metadata": {
        "colab": {
          "base_uri": "https://localhost:8080/"
        },
        "id": "s27lYvGBnLcV",
        "outputId": "cf84c735-ae9a-4b80-ede5-8e6a48e63f35"
      },
      "source": [
        "import missingno as msno\n",
        "\n",
        "# Visualize missing values as a matrix\n",
        "msno.matrix(prope)"
      ],
      "execution_count": null,
      "outputs": [
        {
          "output_type": "execute_result",
          "data": {
            "text/plain": [
              "<matplotlib.axes._subplots.AxesSubplot at 0x7f6d8aaa1d50>"
            ]
          },
          "metadata": {
            "tags": []
          },
          "execution_count": 10
        },
        {
          "output_type": "display_data",
          "data": {
            "image/png": "[encoded data removed]",
            "text/plain": [
              "<Figure size 1800x720 with 2 Axes>"
            ]
          },
          "metadata": {
            "tags": []
          }
        }
      ]
    },
    {
      "cell_type": "code",
      "metadata": {
        "colab": {
          "base_uri": "https://localhost:8080/"
        },
        "id": "Myaf0DsRRjhG",
        "outputId": "76314be2-6488-4bde-c7f6-17fa83da7ea8"
      },
      "source": [
        "import missingno as msno\n",
        "\n",
        "# Visualize the correlation between the number of missing values in different columns as a heatmap\n",
        "msno.heatmap(prope)"
      ],
      "execution_count": null,
      "outputs": [
        {
          "output_type": "execute_result",
          "data": {
            "text/plain": [
              "<matplotlib.axes._subplots.AxesSubplot at 0x7f6d820f9810>"
            ]
          },
          "metadata": {
            "tags": []
          },
          "execution_count": 11
        },
        {
          "output_type": "display_data",
          "data": {
            "image/png": "[encoded data removed]",
            "text/plain": [
              "<Figure size 1440x864 with 2 Axes>"
            ]
          },
          "metadata": {
            "tags": []
          }
        }
      ]
    },
    {
      "cell_type": "markdown",
      "metadata": {
        "id": "KX4MIgOTy22l"
      },
      "source": [
        "> #### **Valores atípicos (*outliers*)**"
      ]
    },
    {
      "cell_type": "code",
      "metadata": {
        "colab": {
          "base_uri": "https://localhost:8080/"
        },
        "id": "IzSTHs_OGBuz",
        "outputId": "44b8746c-8917-4259-af69-3d16fe7fb5a6"
      },
      "source": [
        "#creo un dataframe con la media y la desviación estándar de los atributos que me interesan\n",
        "\n",
        "estad = pd.DataFrame({\n",
        "                      'media': prope[['rooms', 'surface_total', 'surface_covered', 'price']].mean(),\n",
        "                      'desv_std': prope[['rooms', 'surface_total', 'surface_covered', 'price']].std()\n",
        "                    })\n",
        "\n",
        "estad.transpose()"
      ],
      "execution_count": null,
      "outputs": [
        {
          "output_type": "execute_result",
          "data": {
            "text/html": [
              "<div>\n",
              "<style scoped>\n",
              "    .dataframe tbody tr th:only-of-type {\n",
              "        vertical-align: middle;\n",
              "    }\n",
              "\n",
              "    .dataframe tbody tr th {\n",
              "        vertical-align: top;\n",
              "    }\n",
              "\n",
              "    .dataframe thead th {\n",
              "        text-align: right;\n",
              "    }\n",
              "</style>\n",
              "<table border=\"1\" class=\"dataframe\">\n",
              "  <thead>\n",
              "    <tr style=\"text-align: right;\">\n",
              "      <th></th>\n",
              "      <th>rooms</th>\n",
              "      <th>surface_total</th>\n",
              "      <th>surface_covered</th>\n",
              "      <th>price</th>\n",
              "    </tr>\n",
              "  </thead>\n",
              "  <tbody>\n",
              "    <tr>\n",
              "      <th>media</th>\n",
              "      <td>3.083540</td>\n",
              "      <td>218.823413</td>\n",
              "      <td>113.379293</td>\n",
              "      <td>240694.635390</td>\n",
              "    </tr>\n",
              "    <tr>\n",
              "      <th>desv_std</th>\n",
              "      <td>1.420667</td>\n",
              "      <td>2054.620674</td>\n",
              "      <td>924.548575</td>\n",
              "      <td>317154.145007</td>\n",
              "    </tr>\n",
              "  </tbody>\n",
              "</table>\n",
              "</div>"
            ],
            "text/plain": [
              "             rooms  surface_total  surface_covered          price\n",
              "media     3.083540     218.823413       113.379293  240694.635390\n",
              "desv_std  1.420667    2054.620674       924.548575  317154.145007"
            ]
          },
          "metadata": {
            "tags": []
          },
          "execution_count": 12
        }
      ]
    },
    {
      "cell_type": "code",
      "metadata": {
        "colab": {
          "base_uri": "https://localhost:8080/"
        },
        "id": "bCDvfk7wMAb1",
        "outputId": "73fbe82a-b987-47b3-f0f2-fb56366cfde6"
      },
      "source": [
        "# asigno un umbral superior para poder detectar outliers\n",
        "# adopto criterio de las 3 sigmas (concentra el 99.7% de los datos)\n",
        "\n",
        "estad.loc[:,'umbral_sup'] = estad['media'] + 3 * estad['desv_std']   # agrego la fila\n",
        "\n",
        "estad.transpose()"
      ],
      "execution_count": null,
      "outputs": [
        {
          "output_type": "execute_result",
          "data": {
            "text/html": [
              "<div>\n",
              "<style scoped>\n",
              "    .dataframe tbody tr th:only-of-type {\n",
              "        vertical-align: middle;\n",
              "    }\n",
              "\n",
              "    .dataframe tbody tr th {\n",
              "        vertical-align: top;\n",
              "    }\n",
              "\n",
              "    .dataframe thead th {\n",
              "        text-align: right;\n",
              "    }\n",
              "</style>\n",
              "<table border=\"1\" class=\"dataframe\">\n",
              "  <thead>\n",
              "    <tr style=\"text-align: right;\">\n",
              "      <th></th>\n",
              "      <th>rooms</th>\n",
              "      <th>surface_total</th>\n",
              "      <th>surface_covered</th>\n",
              "      <th>price</th>\n",
              "    </tr>\n",
              "  </thead>\n",
              "  <tbody>\n",
              "    <tr>\n",
              "      <th>media</th>\n",
              "      <td>3.083540</td>\n",
              "      <td>218.823413</td>\n",
              "      <td>113.379293</td>\n",
              "      <td>2.406946e+05</td>\n",
              "    </tr>\n",
              "    <tr>\n",
              "      <th>desv_std</th>\n",
              "      <td>1.420667</td>\n",
              "      <td>2054.620674</td>\n",
              "      <td>924.548575</td>\n",
              "      <td>3.171541e+05</td>\n",
              "    </tr>\n",
              "    <tr>\n",
              "      <th>umbral_sup</th>\n",
              "      <td>7.345541</td>\n",
              "      <td>6382.685436</td>\n",
              "      <td>2887.025018</td>\n",
              "      <td>1.192157e+06</td>\n",
              "    </tr>\n",
              "  </tbody>\n",
              "</table>\n",
              "</div>"
            ],
            "text/plain": [
              "               rooms  surface_total  surface_covered         price\n",
              "media       3.083540     218.823413       113.379293  2.406946e+05\n",
              "desv_std    1.420667    2054.620674       924.548575  3.171541e+05\n",
              "umbral_sup  7.345541    6382.685436      2887.025018  1.192157e+06"
            ]
          },
          "metadata": {
            "tags": []
          },
          "execution_count": 13
        }
      ]
    },
    {
      "cell_type": "code",
      "metadata": {
        "colab": {
          "base_uri": "https://localhost:8080/"
        },
        "id": "XAKe8xjDv4AK",
        "outputId": "ae6f3ebe-8754-40bb-8723-9dee63d1d9ea"
      },
      "source": [
        "# creación de un dataframe con los datos que quedan por encima del umbral superior\n",
        "\n",
        "outliers = prope[(prope['rooms'] > estad['umbral_sup'].values[0]) |\n",
        "                       (prope['surface_total'] > estad['umbral_sup'].values[1]) |\n",
        "                       (prope['surface_covered'] > estad['umbral_sup'].values[2]) |\n",
        "                       (prope['price'] > estad['umbral_sup'].values[3])\n",
        "                       ]\n",
        "outliers.shape"
      ],
      "execution_count": null,
      "outputs": [
        {
          "output_type": "execute_result",
          "data": {
            "text/plain": [
              "(3887, 19)"
            ]
          },
          "metadata": {
            "tags": []
          },
          "execution_count": 14
        }
      ]
    },
    {
      "cell_type": "code",
      "metadata": {
        "id": "71rUWOewxPdf"
      },
      "source": [
        "# eliminación de las filas que contienen outliers en prope,\n",
        "# indicando los índices de las instancias que presentan outliers\n",
        "\n",
        "prope.drop(outliers.index, axis=0, inplace=True)"
      ],
      "execution_count": null,
      "outputs": []
    },
    {
      "cell_type": "code",
      "metadata": {
        "colab": {
          "base_uri": "https://localhost:8080/"
        },
        "id": "i0GkPzdUstGK",
        "outputId": "f71ac76b-ecb9-4e75-bd91-ae9cc146ac5d"
      },
      "source": [
        "print(prope.isna().sum())"
      ],
      "execution_count": null,
      "outputs": [
        {
          "output_type": "stream",
          "text": [
            "start_date             0\n",
            "end_date               0\n",
            "created_on             0\n",
            "lat                 9139\n",
            "lon                 9173\n",
            "l1                     0\n",
            "l2                     0\n",
            "l3                     0\n",
            "rooms                  0\n",
            "bedrooms               0\n",
            "bathrooms           5674\n",
            "surface_total      19893\n",
            "surface_covered    20854\n",
            "price                  0\n",
            "currency               0\n",
            "title                  0\n",
            "description            0\n",
            "property_type          0\n",
            "operation_type         0\n",
            "dtype: int64\n"
          ],
          "name": "stdout"
        }
      ]
    },
    {
      "cell_type": "markdown",
      "metadata": {
        "id": "Ojk4qy3DzQCr"
      },
      "source": [
        "> #### **Imputación de valores faltantes**"
      ]
    },
    {
      "cell_type": "code",
      "metadata": {
        "id": "qIl-JC7ZSEL5"
      },
      "source": [
        "# imputación de valores faltantes en latitud y longitud\n",
        "# los completo con el promedio, teniendo en cuenta la ciudad/barrio (l3)\n",
        "\n",
        "lon2 = prope[['lon', 'l3']].groupby('l3').agg(pd.Series.mean)\n",
        "lat2 = prope[['lat', 'l3']].groupby('l3').agg(pd.Series.mean)\n",
        "prope = prope.set_index('l3')   # porque el reemplazo es por ciudad\n",
        "prope.lon.fillna(lon2.to_dict()['lon'], inplace=True)\n",
        "prope.lat.fillna(lat2.to_dict()['lat'], inplace=True)\n",
        "prope = prope.reset_index()"
      ],
      "execution_count": null,
      "outputs": []
    },
    {
      "cell_type": "code",
      "metadata": {
        "colab": {
          "base_uri": "https://localhost:8080/"
        },
        "id": "-i8kuPbmZ25a",
        "outputId": "5c9f92c3-4e72-46ad-e6b0-77d964146025"
      },
      "source": [
        "# matriz de correlación para tener una idea sobre la correlación entre\n",
        "# la cantidad de baños y los demás features\n",
        "\n",
        "matriz_corr = prope[['rooms', 'bedrooms', 'bathrooms', 'surface_total', 'surface_covered']].corr()\n",
        "sns.heatmap(matriz_corr, annot=True)\n",
        "plt.show()\n"
      ],
      "execution_count": null,
      "outputs": [
        {
          "output_type": "display_data",
          "data": {
            "image/png": "[encoded data removed]",
            "text/plain": [
              "<Figure size 432x288 with 2 Axes>"
            ]
          },
          "metadata": {
            "tags": []
          }
        }
      ]
    },
    {
      "cell_type": "markdown",
      "metadata": {
        "id": "VnDZZ70D2rp1"
      },
      "source": [
        "Se observa que la cantidad de baños de una propiedad está correlacionada en un 59% con la cantidad de habitaciones que tiene la misma. Este dato será tenido en cuenta para imputar los datos faltantes en la cantidad de baños."
      ]
    },
    {
      "cell_type": "code",
      "metadata": {
        "id": "O81eJm5dWLtr"
      },
      "source": [
        "# imputación de valores faltantes en bathrooms\n",
        "# los completo con la mediana de la cantidad de baños, según el número de habitaciones de la propiedad\n",
        "\n",
        "bathrooms2 = prope[['bathrooms', 'rooms']].groupby('rooms').agg(pd.Series.median)\n",
        "prope = prope.set_index('rooms')\n",
        "prope.bathrooms.fillna(bathrooms2.to_dict()['bathrooms'], inplace=True)\n",
        "prope = prope.reset_index()"
      ],
      "execution_count": null,
      "outputs": []
    },
    {
      "cell_type": "markdown",
      "metadata": {
        "id": "BIU-BADd3iYL"
      },
      "source": [
        "En la matriz de correlación también se observa que la superficie cubierta de una propiedad está correlacionada en un 65% con la cantidad de habitaciones. Este dato se considerará al momento de imputar las superficies cubiertas faltantes.\n",
        "Una vez completados estos datos, se imputarán los datos faltantes en la columna de superficie total en base a la correlación que existe entre las superficies cubierta y total.\n",
        "\n"
      ]
    },
    {
      "cell_type": "code",
      "metadata": {
        "colab": {
          "base_uri": "https://localhost:8080/"
        },
        "id": "f_v6Vy7yB1lN",
        "outputId": "36234a84-d645-4cd6-ba4a-1e1f0c0ea513"
      },
      "source": [
        "pd.unique(prope['property_type'])"
      ],
      "execution_count": null,
      "outputs": [
        {
          "output_type": "execute_result",
          "data": {
            "text/plain": [
              "array(['Departamento', 'PH', 'Casa', 'Lote', 'Casa de campo', 'Oficina',\n",
              "       'Otro', 'Local comercial', 'Cochera', 'Depósito'], dtype=object)"
            ]
          },
          "metadata": {
            "tags": []
          },
          "execution_count": 20
        }
      ]
    },
    {
      "cell_type": "code",
      "metadata": {
        "id": "yXkBq_wO0qNn"
      },
      "source": [
        "# generación de dataframes para cada tipo de propiedad\n",
        "\n",
        "prope_dpto = prope[prope['property_type']=='Departamento']\n",
        "prope_ph = prope[prope['property_type']=='PH']\n",
        "prope_casa = prope[prope['property_type']=='Casa']\n",
        "prope_lote = prope[prope['property_type']=='Lote']\n",
        "prope_ccampo = prope[prope['property_type']=='Casa de campo']\n",
        "prope_oficina = prope[prope['property_type']=='Oficina']\n",
        "prope_otro = prope[prope['property_type']=='Otro']\n",
        "prope_local = prope[prope['property_type']=='Local comercial']\n",
        "prope_cochera = prope[prope['property_type']=='Cochera']\n",
        "prope_deposito = prope[prope['property_type']=='Depósito']"
      ],
      "execution_count": null,
      "outputs": []
    },
    {
      "cell_type": "code",
      "metadata": {
        "id": "uaikBQSEzWao"
      },
      "source": [
        "# imputación de valores faltantes en superficie cubierta\n",
        "# los completo con su promedio, teniendo en cuenta la cantidad de habitaciones\n",
        "\n",
        "tipos = (prope_dpto, prope_ph, prope_casa, prope_lote, prope_ccampo, prope_oficina, prope_otro, prope_local, prope_cochera, prope_deposito)\n",
        "\n",
        "for t in tipos:\n",
        "  sc2 = t[['surface_covered', 'rooms']].groupby('rooms').agg(pd.Series.mean)\n",
        "  prope = prope.set_index('rooms')\n",
        "  prope.surface_covered.fillna(sc2.to_dict()['surface_covered'], inplace=True)\n",
        "  prope = prope.reset_index()"
      ],
      "execution_count": null,
      "outputs": []
    },
    {
      "cell_type": "code",
      "metadata": {
        "id": "MH9nUkuE6TP8"
      },
      "source": [
        "# imputación de valores faltantes en superficie total\n",
        "# los completo con su promedio, teniendo en cuenta la superficie cubierta\n",
        "\n",
        "st2 = prope[['surface_total', 'surface_covered']].groupby('surface_covered').agg(pd.Series.mean)\n",
        "prope = prope.set_index('surface_covered')\n",
        "prope.surface_total.fillna(st2.to_dict()['surface_total'], inplace=True)\n",
        "prope = prope.reset_index()"
      ],
      "execution_count": null,
      "outputs": []
    },
    {
      "cell_type": "code",
      "metadata": {
        "colab": {
          "base_uri": "https://localhost:8080/"
        },
        "id": "zDdRz-Rw8xpM",
        "outputId": "bea272a1-a59b-4aea-c4af-93ff401f7eb5"
      },
      "source": [
        "print(prope.isna().sum())"
      ],
      "execution_count": null,
      "outputs": [
        {
          "output_type": "stream",
          "text": [
            "surface_covered    0\n",
            "rooms              0\n",
            "l3                 0\n",
            "start_date         0\n",
            "end_date           0\n",
            "created_on         0\n",
            "lat                0\n",
            "lon                0\n",
            "l1                 0\n",
            "l2                 0\n",
            "bedrooms           0\n",
            "bathrooms          0\n",
            "surface_total      1\n",
            "price              0\n",
            "currency           0\n",
            "title              0\n",
            "description        0\n",
            "property_type      0\n",
            "operation_type     0\n",
            "dtype: int64\n"
          ],
          "name": "stdout"
        }
      ]
    },
    {
      "cell_type": "code",
      "metadata": {
        "colab": {
          "base_uri": "https://localhost:8080/"
        },
        "id": "aBMJB7YY70TC",
        "outputId": "85a71a83-9349-4f73-dd4a-cb83e791ba8d"
      },
      "source": [
        "# visualización del único valor faltante\n",
        "\n",
        "unico_nan = prope[prope.isna().any(axis=1)]\n",
        "unico_nan"
      ],
      "execution_count": null,
      "outputs": [
        {
          "output_type": "execute_result",
          "data": {
            "text/html": [
              "<div>\n",
              "<style scoped>\n",
              "    .dataframe tbody tr th:only-of-type {\n",
              "        vertical-align: middle;\n",
              "    }\n",
              "\n",
              "    .dataframe tbody tr th {\n",
              "        vertical-align: top;\n",
              "    }\n",
              "\n",
              "    .dataframe thead th {\n",
              "        text-align: right;\n",
              "    }\n",
              "</style>\n",
              "<table border=\"1\" class=\"dataframe\">\n",
              "  <thead>\n",
              "    <tr style=\"text-align: right;\">\n",
              "      <th></th>\n",
              "      <th>surface_covered</th>\n",
              "      <th>rooms</th>\n",
              "      <th>l3</th>\n",
              "      <th>start_date</th>\n",
              "      <th>end_date</th>\n",
              "      <th>created_on</th>\n",
              "      <th>lat</th>\n",
              "      <th>lon</th>\n",
              "      <th>l1</th>\n",
              "      <th>l2</th>\n",
              "      <th>bedrooms</th>\n",
              "      <th>bathrooms</th>\n",
              "      <th>surface_total</th>\n",
              "      <th>price</th>\n",
              "      <th>currency</th>\n",
              "      <th>title</th>\n",
              "      <th>description</th>\n",
              "      <th>property_type</th>\n",
              "      <th>operation_type</th>\n",
              "    </tr>\n",
              "  </thead>\n",
              "  <tbody>\n",
              "    <tr>\n",
              "      <th>90329</th>\n",
              "      <td>683.0</td>\n",
              "      <td>6.0</td>\n",
              "      <td>Pilar</td>\n",
              "      <td>2020-01-17</td>\n",
              "      <td>9999-12-31</td>\n",
              "      <td>2020-01-17</td>\n",
              "      <td>-34.46886</td>\n",
              "      <td>-58.822307</td>\n",
              "      <td>Argentina</td>\n",
              "      <td>Bs.As. G.B.A. Zona Norte</td>\n",
              "      <td>5.0</td>\n",
              "      <td>6.0</td>\n",
              "      <td>NaN</td>\n",
              "      <td>760000.0</td>\n",
              "      <td>USD</td>\n",
              "      <td>Casa en Venta 6 ambientes La peregrina Pilar</td>\n",
              "      <td>Amplia casa de 680 mts cubiertos con parque so...</td>\n",
              "      <td>Casa</td>\n",
              "      <td>Venta</td>\n",
              "    </tr>\n",
              "  </tbody>\n",
              "</table>\n",
              "</div>"
            ],
            "text/plain": [
              "       surface_covered  rooms  ... property_type operation_type\n",
              "90329            683.0    6.0  ...          Casa          Venta\n",
              "\n",
              "[1 rows x 19 columns]"
            ]
          },
          "metadata": {
            "tags": []
          },
          "execution_count": 25
        }
      ]
    },
    {
      "cell_type": "code",
      "metadata": {
        "colab": {
          "base_uri": "https://localhost:8080/"
        },
        "id": "3yN6mGWIA1Dg",
        "outputId": "366f5432-ca59-452a-9d7a-9a6ed6b6a1db"
      },
      "source": [
        "print(prope.shape)"
      ],
      "execution_count": null,
      "outputs": [
        {
          "output_type": "stream",
          "text": [
            "(140415, 19)\n"
          ],
          "name": "stdout"
        }
      ]
    },
    {
      "cell_type": "code",
      "metadata": {
        "colab": {
          "base_uri": "https://localhost:8080/"
        },
        "id": "ZjlMjS3SvVNj",
        "outputId": "7bca8f2d-2a5d-4e59-fc9d-c2973fc2bb88"
      },
      "source": [
        "# eliminación del único valor faltante\n",
        "prope.dropna()"
      ],
      "execution_count": null,
      "outputs": [
        {
          "output_type": "execute_result",
          "data": {
            "text/html": [
              "<div>\n",
              "<style scoped>\n",
              "    .dataframe tbody tr th:only-of-type {\n",
              "        vertical-align: middle;\n",
              "    }\n",
              "\n",
              "    .dataframe tbody tr th {\n",
              "        vertical-align: top;\n",
              "    }\n",
              "\n",
              "    .dataframe thead th {\n",
              "        text-align: right;\n",
              "    }\n",
              "</style>\n",
              "<table border=\"1\" class=\"dataframe\">\n",
              "  <thead>\n",
              "    <tr style=\"text-align: right;\">\n",
              "      <th></th>\n",
              "      <th>surface_covered</th>\n",
              "      <th>rooms</th>\n",
              "      <th>l3</th>\n",
              "      <th>start_date</th>\n",
              "      <th>end_date</th>\n",
              "      <th>created_on</th>\n",
              "      <th>lat</th>\n",
              "      <th>lon</th>\n",
              "      <th>l1</th>\n",
              "      <th>l2</th>\n",
              "      <th>bedrooms</th>\n",
              "      <th>bathrooms</th>\n",
              "      <th>surface_total</th>\n",
              "      <th>price</th>\n",
              "      <th>currency</th>\n",
              "      <th>title</th>\n",
              "      <th>description</th>\n",
              "      <th>property_type</th>\n",
              "      <th>operation_type</th>\n",
              "    </tr>\n",
              "  </thead>\n",
              "  <tbody>\n",
              "    <tr>\n",
              "      <th>0</th>\n",
              "      <td>140.0</td>\n",
              "      <td>7.0</td>\n",
              "      <td>San Cristobal</td>\n",
              "      <td>2019-10-17</td>\n",
              "      <td>2019-12-23</td>\n",
              "      <td>2019-10-17</td>\n",
              "      <td>-34.605880</td>\n",
              "      <td>-58.384949</td>\n",
              "      <td>Argentina</td>\n",
              "      <td>Capital Federal</td>\n",
              "      <td>7.0</td>\n",
              "      <td>2.0</td>\n",
              "      <td>140.0</td>\n",
              "      <td>153000.0</td>\n",
              "      <td>USD</td>\n",
              "      <td>***Venta semipiso centro, ideal hostel*****</td>\n",
              "      <td>DESCRIPCION DE LA PROPIEDAD: Departamento de 1...</td>\n",
              "      <td>Departamento</td>\n",
              "      <td>Venta</td>\n",
              "    </tr>\n",
              "    <tr>\n",
              "      <th>1</th>\n",
              "      <td>58.0</td>\n",
              "      <td>2.0</td>\n",
              "      <td>Boedo</td>\n",
              "      <td>2019-10-17</td>\n",
              "      <td>2019-11-21</td>\n",
              "      <td>2019-10-17</td>\n",
              "      <td>-34.624056</td>\n",
              "      <td>-58.412110</td>\n",
              "      <td>Argentina</td>\n",
              "      <td>Capital Federal</td>\n",
              "      <td>1.0</td>\n",
              "      <td>2.0</td>\n",
              "      <td>70.0</td>\n",
              "      <td>159000.0</td>\n",
              "      <td>USD</td>\n",
              "      <td>Espectacular PH reciclado en Boedo sin expensas.</td>\n",
              "      <td>PH reciclado en Boedo a una cuadra de la plaz...</td>\n",
              "      <td>PH</td>\n",
              "      <td>Venta</td>\n",
              "    </tr>\n",
              "    <tr>\n",
              "      <th>2</th>\n",
              "      <td>45.0</td>\n",
              "      <td>2.0</td>\n",
              "      <td>Palermo</td>\n",
              "      <td>2019-10-17</td>\n",
              "      <td>2019-11-01</td>\n",
              "      <td>2019-10-17</td>\n",
              "      <td>-34.593569</td>\n",
              "      <td>-58.427474</td>\n",
              "      <td>Argentina</td>\n",
              "      <td>Capital Federal</td>\n",
              "      <td>1.0</td>\n",
              "      <td>1.0</td>\n",
              "      <td>45.0</td>\n",
              "      <td>125000.0</td>\n",
              "      <td>USD</td>\n",
              "      <td>Depto.tipo casa de 2 ambientes en Venta en Pal...</td>\n",
              "      <td>2 ambienets amplio , excelente estado , patio ...</td>\n",
              "      <td>PH</td>\n",
              "      <td>Venta</td>\n",
              "    </tr>\n",
              "    <tr>\n",
              "      <th>3</th>\n",
              "      <td>50.0</td>\n",
              "      <td>2.0</td>\n",
              "      <td>Palermo</td>\n",
              "      <td>2019-10-17</td>\n",
              "      <td>2019-12-23</td>\n",
              "      <td>2019-10-17</td>\n",
              "      <td>-34.581294</td>\n",
              "      <td>-58.436754</td>\n",
              "      <td>Argentina</td>\n",
              "      <td>Capital Federal</td>\n",
              "      <td>1.0</td>\n",
              "      <td>1.0</td>\n",
              "      <td>85.0</td>\n",
              "      <td>295000.0</td>\n",
              "      <td>USD</td>\n",
              "      <td>COSTA RICA 5800 / PALERMO HOLLYWOOD / VENTA PH...</td>\n",
              "      <td>HERMOSO PH EN PALERMO!!!2 AMBIENTES TOTALMENTE...</td>\n",
              "      <td>PH</td>\n",
              "      <td>Venta</td>\n",
              "    </tr>\n",
              "    <tr>\n",
              "      <th>4</th>\n",
              "      <td>35.0</td>\n",
              "      <td>2.0</td>\n",
              "      <td>La Plata</td>\n",
              "      <td>2019-10-17</td>\n",
              "      <td>2020-03-11</td>\n",
              "      <td>2019-10-17</td>\n",
              "      <td>-34.914194</td>\n",
              "      <td>-57.938219</td>\n",
              "      <td>Argentina</td>\n",
              "      <td>Bs.As. G.B.A. Zona Sur</td>\n",
              "      <td>1.0</td>\n",
              "      <td>1.0</td>\n",
              "      <td>50.0</td>\n",
              "      <td>40000.0</td>\n",
              "      <td>USD</td>\n",
              "      <td>58 entre 1 y 2  Venta de departamento en ph.1 ...</td>\n",
              "      <td>58 entre 1 y 2  Venta de departamento en PH. P...</td>\n",
              "      <td>PH</td>\n",
              "      <td>Venta</td>\n",
              "    </tr>\n",
              "    <tr>\n",
              "      <th>...</th>\n",
              "      <td>...</td>\n",
              "      <td>...</td>\n",
              "      <td>...</td>\n",
              "      <td>...</td>\n",
              "      <td>...</td>\n",
              "      <td>...</td>\n",
              "      <td>...</td>\n",
              "      <td>...</td>\n",
              "      <td>...</td>\n",
              "      <td>...</td>\n",
              "      <td>...</td>\n",
              "      <td>...</td>\n",
              "      <td>...</td>\n",
              "      <td>...</td>\n",
              "      <td>...</td>\n",
              "      <td>...</td>\n",
              "      <td>...</td>\n",
              "      <td>...</td>\n",
              "      <td>...</td>\n",
              "    </tr>\n",
              "    <tr>\n",
              "      <th>140410</th>\n",
              "      <td>48.0</td>\n",
              "      <td>2.0</td>\n",
              "      <td>Berazategui</td>\n",
              "      <td>2019-07-31</td>\n",
              "      <td>2019-08-13</td>\n",
              "      <td>2019-07-31</td>\n",
              "      <td>-34.816348</td>\n",
              "      <td>-58.181963</td>\n",
              "      <td>Argentina</td>\n",
              "      <td>Bs.As. G.B.A. Zona Sur</td>\n",
              "      <td>1.0</td>\n",
              "      <td>1.0</td>\n",
              "      <td>54.0</td>\n",
              "      <td>165000.0</td>\n",
              "      <td>USD</td>\n",
              "      <td>Departamento en Venta en Barrio Privado Barran...</td>\n",
              "      <td>Departamento de 2 ambientesCocina con alacena ...</td>\n",
              "      <td>Departamento</td>\n",
              "      <td>Venta</td>\n",
              "    </tr>\n",
              "    <tr>\n",
              "      <th>140411</th>\n",
              "      <td>90.0</td>\n",
              "      <td>4.0</td>\n",
              "      <td>Pilar</td>\n",
              "      <td>2019-07-31</td>\n",
              "      <td>2019-08-14</td>\n",
              "      <td>2019-07-31</td>\n",
              "      <td>-34.446459</td>\n",
              "      <td>-58.937810</td>\n",
              "      <td>Argentina</td>\n",
              "      <td>Bs.As. G.B.A. Zona Norte</td>\n",
              "      <td>3.0</td>\n",
              "      <td>2.0</td>\n",
              "      <td>164.0</td>\n",
              "      <td>130000.0</td>\n",
              "      <td>USD</td>\n",
              "      <td>Venta departamentos tres dormitorios jardín co...</td>\n",
              "      <td>Muy buen duplex a estrenar en dos plantas más ...</td>\n",
              "      <td>Departamento</td>\n",
              "      <td>Venta</td>\n",
              "    </tr>\n",
              "    <tr>\n",
              "      <th>140412</th>\n",
              "      <td>35.0</td>\n",
              "      <td>1.0</td>\n",
              "      <td>Pilar</td>\n",
              "      <td>2019-07-31</td>\n",
              "      <td>2019-08-14</td>\n",
              "      <td>2019-07-31</td>\n",
              "      <td>-34.444633</td>\n",
              "      <td>-58.981606</td>\n",
              "      <td>Argentina</td>\n",
              "      <td>Bs.As. G.B.A. Zona Norte</td>\n",
              "      <td>1.0</td>\n",
              "      <td>1.0</td>\n",
              "      <td>50.0</td>\n",
              "      <td>73000.0</td>\n",
              "      <td>USD</td>\n",
              "      <td>Venta departamento de un ambiente Manzanares C...</td>\n",
              "      <td>En los Condominios de Campo Manzanares Chico, ...</td>\n",
              "      <td>Departamento</td>\n",
              "      <td>Venta</td>\n",
              "    </tr>\n",
              "    <tr>\n",
              "      <th>140413</th>\n",
              "      <td>38.0</td>\n",
              "      <td>2.0</td>\n",
              "      <td>Pilar</td>\n",
              "      <td>2019-07-31</td>\n",
              "      <td>2019-08-14</td>\n",
              "      <td>2019-07-31</td>\n",
              "      <td>-34.444830</td>\n",
              "      <td>-58.981796</td>\n",
              "      <td>Argentina</td>\n",
              "      <td>Bs.As. G.B.A. Zona Norte</td>\n",
              "      <td>1.0</td>\n",
              "      <td>1.0</td>\n",
              "      <td>38.0</td>\n",
              "      <td>68000.0</td>\n",
              "      <td>USD</td>\n",
              "      <td>Departamento en Venta. Manzanares chico.</td>\n",
              "      <td>Broker: Maria 11Departamento de dos ambientes ...</td>\n",
              "      <td>Departamento</td>\n",
              "      <td>Venta</td>\n",
              "    </tr>\n",
              "    <tr>\n",
              "      <th>140414</th>\n",
              "      <td>75.0</td>\n",
              "      <td>3.0</td>\n",
              "      <td>Pilar</td>\n",
              "      <td>2019-07-31</td>\n",
              "      <td>2019-10-12</td>\n",
              "      <td>2019-07-31</td>\n",
              "      <td>-34.444760</td>\n",
              "      <td>-58.981885</td>\n",
              "      <td>Argentina</td>\n",
              "      <td>Bs.As. G.B.A. Zona Norte</td>\n",
              "      <td>2.0</td>\n",
              "      <td>1.0</td>\n",
              "      <td>75.0</td>\n",
              "      <td>98000.0</td>\n",
              "      <td>USD</td>\n",
              "      <td>Departamento en venta en Manzanares Chico</td>\n",
              "      <td>Departamento en el Barrio Manzanares Chico , e...</td>\n",
              "      <td>Departamento</td>\n",
              "      <td>Venta</td>\n",
              "    </tr>\n",
              "  </tbody>\n",
              "</table>\n",
              "<p>140414 rows × 19 columns</p>\n",
              "</div>"
            ],
            "text/plain": [
              "        surface_covered  rooms  ... property_type operation_type\n",
              "0                 140.0    7.0  ...  Departamento          Venta\n",
              "1                  58.0    2.0  ...            PH          Venta\n",
              "2                  45.0    2.0  ...            PH          Venta\n",
              "3                  50.0    2.0  ...            PH          Venta\n",
              "4                  35.0    2.0  ...            PH          Venta\n",
              "...                 ...    ...  ...           ...            ...\n",
              "140410             48.0    2.0  ...  Departamento          Venta\n",
              "140411             90.0    4.0  ...  Departamento          Venta\n",
              "140412             35.0    1.0  ...  Departamento          Venta\n",
              "140413             38.0    2.0  ...  Departamento          Venta\n",
              "140414             75.0    3.0  ...  Departamento          Venta\n",
              "\n",
              "[140414 rows x 19 columns]"
            ]
          },
          "metadata": {
            "tags": []
          },
          "execution_count": 27
        }
      ]
    },
    {
      "cell_type": "code",
      "metadata": {
        "colab": {
          "base_uri": "https://localhost:8080/"
        },
        "id": "C3yddUpI9F5x",
        "outputId": "2659ca9f-9f12-4d3c-d83e-07a06b3eab67"
      },
      "source": [
        "# control de las columnas con valores imputados, que no tengan valores negativos\n",
        "print(\n",
        "    (prope['surface_total']<0).sum(),\n",
        "    (prope['surface_covered']<0).sum(),\n",
        "    (prope['bathrooms']<0).sum()\n",
        ")"
      ],
      "execution_count": null,
      "outputs": [
        {
          "output_type": "stream",
          "text": [
            "0 0 0\n"
          ],
          "name": "stdout"
        }
      ]
    },
    {
      "cell_type": "markdown",
      "metadata": {
        "id": "IYuTnQdT0E6I"
      },
      "source": [
        "> #### **Filtrado de propiedades con superficie cubierta mayor a la total**"
      ]
    },
    {
      "cell_type": "code",
      "metadata": {
        "id": "lY4pxr6s9ruL"
      },
      "source": [
        "# se descartan las propiedades que figuren con superficie cubierta mayor a la total\n",
        "prope = prope.loc[(prope['surface_total'] >= prope['surface_covered']),:]"
      ],
      "execution_count": null,
      "outputs": []
    },
    {
      "cell_type": "code",
      "metadata": {
        "colab": {
          "base_uri": "https://localhost:8080/"
        },
        "id": "LSgpMTwYAYWd",
        "outputId": "a33abcdd-7233-4539-8bb4-ac026a4f212e"
      },
      "source": [
        "print(prope.shape)"
      ],
      "execution_count": null,
      "outputs": [
        {
          "output_type": "stream",
          "text": [
            "(138712, 19)\n"
          ],
          "name": "stdout"
        }
      ]
    },
    {
      "cell_type": "markdown",
      "metadata": {
        "id": "TQ35nNg50iv-"
      },
      "source": [
        "> #### ***Encoding* de barrios mediante precio por m$^2$**"
      ]
    },
    {
      "cell_type": "code",
      "metadata": {
        "id": "VROP9-aa-_84"
      },
      "source": [
        "# se agrega una columna con el precio por m2\n",
        "\n",
        "prope.loc[:,'price_m2'] = prope['price'] / prope['surface_total']"
      ],
      "execution_count": null,
      "outputs": []
    },
    {
      "cell_type": "markdown",
      "metadata": {
        "id": "cV3bxIX317nW"
      },
      "source": [
        "\n",
        "\n",
        "---\n",
        "\n"
      ]
    },
    {
      "cell_type": "markdown",
      "metadata": {
        "id": "leafwAk0I1hL"
      },
      "source": [
        "#### Comparación con el modelo elegido en el proyecto 1"
      ]
    },
    {
      "cell_type": "code",
      "metadata": {
        "colab": {
          "base_uri": "https://localhost:8080/",
          "height": 141
        },
        "id": "GRIhGkeLyzgC",
        "outputId": "a9c967a0-b3ef-4392-b750-960e6e0b554f"
      },
      "source": [
        "estad.transpose()"
      ],
      "execution_count": null,
      "outputs": [
        {
          "output_type": "execute_result",
          "data": {
            "text/html": [
              "<div>\n",
              "<style scoped>\n",
              "    .dataframe tbody tr th:only-of-type {\n",
              "        vertical-align: middle;\n",
              "    }\n",
              "\n",
              "    .dataframe tbody tr th {\n",
              "        vertical-align: top;\n",
              "    }\n",
              "\n",
              "    .dataframe thead th {\n",
              "        text-align: right;\n",
              "    }\n",
              "</style>\n",
              "<table border=\"1\" class=\"dataframe\">\n",
              "  <thead>\n",
              "    <tr style=\"text-align: right;\">\n",
              "      <th></th>\n",
              "      <th>rooms</th>\n",
              "      <th>surface_total</th>\n",
              "      <th>surface_covered</th>\n",
              "      <th>price</th>\n",
              "    </tr>\n",
              "  </thead>\n",
              "  <tbody>\n",
              "    <tr>\n",
              "      <th>media</th>\n",
              "      <td>3.083540</td>\n",
              "      <td>218.823413</td>\n",
              "      <td>113.379293</td>\n",
              "      <td>2.406946e+05</td>\n",
              "    </tr>\n",
              "    <tr>\n",
              "      <th>desv_std</th>\n",
              "      <td>1.420667</td>\n",
              "      <td>2054.620674</td>\n",
              "      <td>924.548575</td>\n",
              "      <td>3.171541e+05</td>\n",
              "    </tr>\n",
              "    <tr>\n",
              "      <th>umbral_sup</th>\n",
              "      <td>7.345541</td>\n",
              "      <td>6382.685436</td>\n",
              "      <td>2887.025018</td>\n",
              "      <td>1.192157e+06</td>\n",
              "    </tr>\n",
              "  </tbody>\n",
              "</table>\n",
              "</div>"
            ],
            "text/plain": [
              "               rooms  surface_total  surface_covered         price\n",
              "media       3.083540     218.823413       113.379293  2.406946e+05\n",
              "desv_std    1.420667    2054.620674       924.548575  3.171541e+05\n",
              "umbral_sup  7.345541    6382.685436      2887.025018  1.192157e+06"
            ]
          },
          "metadata": {
            "tags": []
          },
          "execution_count": 32
        }
      ]
    },
    {
      "cell_type": "code",
      "metadata": {
        "id": "IvKtuX6vKHAx"
      },
      "source": [
        "propefil = prope.copy()\n",
        "\n",
        "propefil = propefil[\n",
        "                 (propefil['l2']=='Capital Federal') &\n",
        "                ((propefil['property_type'] == 'Departamento') |\n",
        "                 (propefil['property_type'] == 'Casa') |\n",
        "                 (propefil['property_type'] == 'PH')) &\n",
        "                 (15 < propefil['surface_total']) &\n",
        "                 (1000 > propefil['surface_total']) &\n",
        "                 (propefil['price'] < 4000000)                 \n",
        "                ]\n",
        "\n",
        "propefil = propefil.drop(['start_date', 'end_date', 'created_on', 'lat', 'lon', 'l1', 'l2', 'l3', 'currency', 'title', 'description', 'operation_type'], axis=1)\n"
      ],
      "execution_count": null,
      "outputs": []
    },
    {
      "cell_type": "code",
      "metadata": {
        "colab": {
          "base_uri": "https://localhost:8080/"
        },
        "id": "cFcnAbtxyQHG",
        "outputId": "26b5f841-2b33-464e-8bc9-a9a7877695a6"
      },
      "source": [
        "propefil.shape"
      ],
      "execution_count": null,
      "outputs": [
        {
          "output_type": "execute_result",
          "data": {
            "text/plain": [
              "(86444, 8)"
            ]
          },
          "metadata": {
            "tags": []
          },
          "execution_count": 34
        }
      ]
    },
    {
      "cell_type": "code",
      "metadata": {
        "colab": {
          "base_uri": "https://localhost:8080/",
          "height": 202
        },
        "id": "i2XO-BYClbCl",
        "outputId": "9c7802fe-b663-4ea5-dd56-3b888028ae6e"
      },
      "source": [
        "# escalado de datos filtrados para comparar con el proyecto 1\n",
        "\n",
        "scal = StandardScaler()\n",
        "scal.fit(propefil[['rooms', 'bedrooms', 'bathrooms', 'surface_total', 'surface_covered', 'price_m2']])\n",
        "propefil[['rooms', 'bedrooms', 'bathrooms', 'surface_total', 'surface_covered', 'price_m2']] = scal.transform(propefil[['rooms', 'bedrooms', 'bathrooms', 'surface_total', 'surface_covered', 'price_m2']])\n",
        "propefil.head()"
      ],
      "execution_count": null,
      "outputs": [
        {
          "output_type": "execute_result",
          "data": {
            "text/html": [
              "<div>\n",
              "<style scoped>\n",
              "    .dataframe tbody tr th:only-of-type {\n",
              "        vertical-align: middle;\n",
              "    }\n",
              "\n",
              "    .dataframe tbody tr th {\n",
              "        vertical-align: top;\n",
              "    }\n",
              "\n",
              "    .dataframe thead th {\n",
              "        text-align: right;\n",
              "    }\n",
              "</style>\n",
              "<table border=\"1\" class=\"dataframe\">\n",
              "  <thead>\n",
              "    <tr style=\"text-align: right;\">\n",
              "      <th></th>\n",
              "      <th>surface_covered</th>\n",
              "      <th>rooms</th>\n",
              "      <th>bedrooms</th>\n",
              "      <th>bathrooms</th>\n",
              "      <th>surface_total</th>\n",
              "      <th>price</th>\n",
              "      <th>property_type</th>\n",
              "      <th>price_m2</th>\n",
              "    </tr>\n",
              "  </thead>\n",
              "  <tbody>\n",
              "    <tr>\n",
              "      <th>0</th>\n",
              "      <td>1.321547</td>\n",
              "      <td>3.518009</td>\n",
              "      <td>5.140273</td>\n",
              "      <td>0.651287</td>\n",
              "      <td>0.156364</td>\n",
              "      <td>153000.0</td>\n",
              "      <td>Departamento</td>\n",
              "      <td>-1.251406</td>\n",
              "    </tr>\n",
              "    <tr>\n",
              "      <th>1</th>\n",
              "      <td>-0.361643</td>\n",
              "      <td>-0.756632</td>\n",
              "      <td>-0.913236</td>\n",
              "      <td>0.651287</td>\n",
              "      <td>-0.384658</td>\n",
              "      <td>159000.0</td>\n",
              "      <td>PH</td>\n",
              "      <td>-0.199443</td>\n",
              "    </tr>\n",
              "    <tr>\n",
              "      <th>2</th>\n",
              "      <td>-0.628490</td>\n",
              "      <td>-0.756632</td>\n",
              "      <td>-0.913236</td>\n",
              "      <td>-0.648400</td>\n",
              "      <td>-0.577880</td>\n",
              "      <td>125000.0</td>\n",
              "      <td>PH</td>\n",
              "      <td>0.252512</td>\n",
              "    </tr>\n",
              "    <tr>\n",
              "      <th>3</th>\n",
              "      <td>-0.525856</td>\n",
              "      <td>-0.756632</td>\n",
              "      <td>-0.913236</td>\n",
              "      <td>-0.648400</td>\n",
              "      <td>-0.268725</td>\n",
              "      <td>295000.0</td>\n",
              "      <td>PH</td>\n",
              "      <td>0.870897</td>\n",
              "    </tr>\n",
              "    <tr>\n",
              "      <th>5</th>\n",
              "      <td>-0.402696</td>\n",
              "      <td>-0.756632</td>\n",
              "      <td>-0.913236</td>\n",
              "      <td>-0.648400</td>\n",
              "      <td>-0.492863</td>\n",
              "      <td>150000.0</td>\n",
              "      <td>PH</td>\n",
              "      <td>0.163963</td>\n",
              "    </tr>\n",
              "  </tbody>\n",
              "</table>\n",
              "</div>"
            ],
            "text/plain": [
              "   surface_covered     rooms  bedrooms  ...     price  property_type  price_m2\n",
              "0         1.321547  3.518009  5.140273  ...  153000.0   Departamento -1.251406\n",
              "1        -0.361643 -0.756632 -0.913236  ...  159000.0             PH -0.199443\n",
              "2        -0.628490 -0.756632 -0.913236  ...  125000.0             PH  0.252512\n",
              "3        -0.525856 -0.756632 -0.913236  ...  295000.0             PH  0.870897\n",
              "5        -0.402696 -0.756632 -0.913236  ...  150000.0             PH  0.163963\n",
              "\n",
              "[5 rows x 8 columns]"
            ]
          },
          "metadata": {
            "tags": []
          },
          "execution_count": 35
        }
      ]
    },
    {
      "cell_type": "code",
      "metadata": {
        "colab": {
          "base_uri": "https://localhost:8080/",
          "height": 434
        },
        "id": "HsGO_RBXlvQ0",
        "outputId": "05ea07bf-1ca8-464c-b668-d73308a702c5"
      },
      "source": [
        "# el tipo de propiedad es una variable categórica en donde no existe relacion de orden\n",
        "# por este motivo se aplica one-hot encoding a los datos filtrados\n",
        "\n",
        "pd.get_dummies(propefil, columns = ['property_type'])"
      ],
      "execution_count": null,
      "outputs": [
        {
          "output_type": "execute_result",
          "data": {
            "text/html": [
              "<div>\n",
              "<style scoped>\n",
              "    .dataframe tbody tr th:only-of-type {\n",
              "        vertical-align: middle;\n",
              "    }\n",
              "\n",
              "    .dataframe tbody tr th {\n",
              "        vertical-align: top;\n",
              "    }\n",
              "\n",
              "    .dataframe thead th {\n",
              "        text-align: right;\n",
              "    }\n",
              "</style>\n",
              "<table border=\"1\" class=\"dataframe\">\n",
              "  <thead>\n",
              "    <tr style=\"text-align: right;\">\n",
              "      <th></th>\n",
              "      <th>surface_covered</th>\n",
              "      <th>rooms</th>\n",
              "      <th>bedrooms</th>\n",
              "      <th>bathrooms</th>\n",
              "      <th>surface_total</th>\n",
              "      <th>price</th>\n",
              "      <th>price_m2</th>\n",
              "      <th>property_type_Casa</th>\n",
              "      <th>property_type_Departamento</th>\n",
              "      <th>property_type_PH</th>\n",
              "    </tr>\n",
              "  </thead>\n",
              "  <tbody>\n",
              "    <tr>\n",
              "      <th>0</th>\n",
              "      <td>1.321547</td>\n",
              "      <td>3.518009</td>\n",
              "      <td>5.140273</td>\n",
              "      <td>0.651287</td>\n",
              "      <td>0.156364</td>\n",
              "      <td>153000.0</td>\n",
              "      <td>-1.251406</td>\n",
              "      <td>0</td>\n",
              "      <td>1</td>\n",
              "      <td>0</td>\n",
              "    </tr>\n",
              "    <tr>\n",
              "      <th>1</th>\n",
              "      <td>-0.361643</td>\n",
              "      <td>-0.756632</td>\n",
              "      <td>-0.913236</td>\n",
              "      <td>0.651287</td>\n",
              "      <td>-0.384658</td>\n",
              "      <td>159000.0</td>\n",
              "      <td>-0.199443</td>\n",
              "      <td>0</td>\n",
              "      <td>0</td>\n",
              "      <td>1</td>\n",
              "    </tr>\n",
              "    <tr>\n",
              "      <th>2</th>\n",
              "      <td>-0.628490</td>\n",
              "      <td>-0.756632</td>\n",
              "      <td>-0.913236</td>\n",
              "      <td>-0.648400</td>\n",
              "      <td>-0.577880</td>\n",
              "      <td>125000.0</td>\n",
              "      <td>0.252512</td>\n",
              "      <td>0</td>\n",
              "      <td>0</td>\n",
              "      <td>1</td>\n",
              "    </tr>\n",
              "    <tr>\n",
              "      <th>3</th>\n",
              "      <td>-0.525856</td>\n",
              "      <td>-0.756632</td>\n",
              "      <td>-0.913236</td>\n",
              "      <td>-0.648400</td>\n",
              "      <td>-0.268725</td>\n",
              "      <td>295000.0</td>\n",
              "      <td>0.870897</td>\n",
              "      <td>0</td>\n",
              "      <td>0</td>\n",
              "      <td>1</td>\n",
              "    </tr>\n",
              "    <tr>\n",
              "      <th>5</th>\n",
              "      <td>-0.402696</td>\n",
              "      <td>-0.756632</td>\n",
              "      <td>-0.913236</td>\n",
              "      <td>-0.648400</td>\n",
              "      <td>-0.492863</td>\n",
              "      <td>150000.0</td>\n",
              "      <td>0.163963</td>\n",
              "      <td>0</td>\n",
              "      <td>0</td>\n",
              "      <td>1</td>\n",
              "    </tr>\n",
              "    <tr>\n",
              "      <th>...</th>\n",
              "      <td>...</td>\n",
              "      <td>...</td>\n",
              "      <td>...</td>\n",
              "      <td>...</td>\n",
              "      <td>...</td>\n",
              "      <td>...</td>\n",
              "      <td>...</td>\n",
              "      <td>...</td>\n",
              "      <td>...</td>\n",
              "      <td>...</td>\n",
              "    </tr>\n",
              "    <tr>\n",
              "      <th>140315</th>\n",
              "      <td>0.500479</td>\n",
              "      <td>0.953225</td>\n",
              "      <td>1.104600</td>\n",
              "      <td>0.651287</td>\n",
              "      <td>-0.106418</td>\n",
              "      <td>620000.0</td>\n",
              "      <td>2.993858</td>\n",
              "      <td>0</td>\n",
              "      <td>1</td>\n",
              "      <td>0</td>\n",
              "    </tr>\n",
              "    <tr>\n",
              "      <th>140316</th>\n",
              "      <td>0.726273</td>\n",
              "      <td>0.953225</td>\n",
              "      <td>1.104600</td>\n",
              "      <td>1.950975</td>\n",
              "      <td>0.426876</td>\n",
              "      <td>570000.0</td>\n",
              "      <td>0.680381</td>\n",
              "      <td>0</td>\n",
              "      <td>0</td>\n",
              "      <td>1</td>\n",
              "    </tr>\n",
              "    <tr>\n",
              "      <th>140317</th>\n",
              "      <td>1.198387</td>\n",
              "      <td>0.098296</td>\n",
              "      <td>0.095682</td>\n",
              "      <td>0.651287</td>\n",
              "      <td>0.187280</td>\n",
              "      <td>480000.0</td>\n",
              "      <td>0.748387</td>\n",
              "      <td>0</td>\n",
              "      <td>0</td>\n",
              "      <td>1</td>\n",
              "    </tr>\n",
              "    <tr>\n",
              "      <th>140318</th>\n",
              "      <td>1.383127</td>\n",
              "      <td>0.953225</td>\n",
              "      <td>0.095682</td>\n",
              "      <td>0.651287</td>\n",
              "      <td>1.524378</td>\n",
              "      <td>530000.0</td>\n",
              "      <td>-0.734545</td>\n",
              "      <td>0</td>\n",
              "      <td>0</td>\n",
              "      <td>1</td>\n",
              "    </tr>\n",
              "    <tr>\n",
              "      <th>140319</th>\n",
              "      <td>1.424181</td>\n",
              "      <td>0.098296</td>\n",
              "      <td>0.095682</td>\n",
              "      <td>0.651287</td>\n",
              "      <td>0.195009</td>\n",
              "      <td>420000.0</td>\n",
              "      <td>0.358527</td>\n",
              "      <td>0</td>\n",
              "      <td>1</td>\n",
              "      <td>0</td>\n",
              "    </tr>\n",
              "  </tbody>\n",
              "</table>\n",
              "<p>86444 rows × 10 columns</p>\n",
              "</div>"
            ],
            "text/plain": [
              "        surface_covered     rooms  ...  property_type_Departamento  property_type_PH\n",
              "0              1.321547  3.518009  ...                           1                 0\n",
              "1             -0.361643 -0.756632  ...                           0                 1\n",
              "2             -0.628490 -0.756632  ...                           0                 1\n",
              "3             -0.525856 -0.756632  ...                           0                 1\n",
              "5             -0.402696 -0.756632  ...                           0                 1\n",
              "...                 ...       ...  ...                         ...               ...\n",
              "140315         0.500479  0.953225  ...                           1                 0\n",
              "140316         0.726273  0.953225  ...                           0                 1\n",
              "140317         1.198387  0.098296  ...                           0                 1\n",
              "140318         1.383127  0.953225  ...                           0                 1\n",
              "140319         1.424181  0.098296  ...                           1                 0\n",
              "\n",
              "[86444 rows x 10 columns]"
            ]
          },
          "metadata": {
            "tags": []
          },
          "execution_count": 36
        }
      ]
    },
    {
      "cell_type": "code",
      "metadata": {
        "id": "8zrj2kiSlcna"
      },
      "source": [
        "# train test split sobre los datos filtrados para el proyecto 1\n",
        "\n",
        "X = propefil[['surface_covered']]\n",
        "y = propefil['price']\n",
        "\n",
        "X_train, X_test, y_train, y_test = train_test_split(X, y, test_size=0.30, random_state=42)"
      ],
      "execution_count": null,
      "outputs": []
    },
    {
      "cell_type": "code",
      "metadata": {
        "colab": {
          "base_uri": "https://localhost:8080/"
        },
        "id": "HEUpiTqOyBlK",
        "outputId": "80b55554-7e07-4c8a-e0e4-6e7c52d8d4eb"
      },
      "source": [
        "# árbol de decisión\n",
        "\n",
        "clf_tree = DecisionTreeClassifier()              # crea árbol\n",
        "clf_tree.fit(X_train, y_train)                   # entrena\n",
        "\n",
        "y_pred = clf_tree.predict(X_test)                # predice\n",
        "\n",
        "print('Accuracy score:', accuracy_score(y_test, y_pred))"
      ],
      "execution_count": null,
      "outputs": [
        {
          "output_type": "stream",
          "text": [
            "Accuracy score: 0.0698311097401095\n"
          ],
          "name": "stdout"
        }
      ]
    },
    {
      "cell_type": "code",
      "metadata": {
        "colab": {
          "base_uri": "https://localhost:8080/"
        },
        "id": "wbd3ZkPNJwd4",
        "outputId": "eaf52ccc-e1e0-427b-e99b-72d00414ea03"
      },
      "source": [
        "tree_regressor = DecisionTreeRegressor(max_depth=12, random_state=42)\n",
        "tree_regressor.fit(X_train, y_train)"
      ],
      "execution_count": null,
      "outputs": [
        {
          "output_type": "execute_result",
          "data": {
            "text/plain": [
              "DecisionTreeRegressor(ccp_alpha=0.0, criterion='mse', max_depth=12,\n",
              "                      max_features=None, max_leaf_nodes=None,\n",
              "                      min_impurity_decrease=0.0, min_impurity_split=None,\n",
              "                      min_samples_leaf=1, min_samples_split=2,\n",
              "                      min_weight_fraction_leaf=0.0, presort='deprecated',\n",
              "                      random_state=42, splitter='best')"
            ]
          },
          "metadata": {
            "tags": []
          },
          "execution_count": 39
        }
      ]
    },
    {
      "cell_type": "code",
      "metadata": {
        "colab": {
          "base_uri": "https://localhost:8080/",
          "height": 332
        },
        "id": "J6XUSytEJSbc",
        "outputId": "653abbfc-02a4-4084-9bab-ba03eeddea88"
      },
      "source": [
        "y_train_pred = tree_regressor.predict(X_train)\n",
        "y_test_pred = tree_regressor.predict(X_test)\n",
        "\n",
        "rmse_train = np.sqrt(mean_squared_error(y_train, y_train_pred))\n",
        "rmse_test = np.sqrt(mean_squared_error(y_test, y_test_pred))\n",
        "print(f'Raíz del error cuadrático medio en Train: {rmse_train}')\n",
        "print(f'Raíz del error cuadrático medio en Test: {rmse_test}')\n",
        "    \n",
        "plt.figure(figsize = (8,4))\n",
        "\n",
        "plt.subplot(1,2,1)\n",
        "sns.histplot(y_train - y_train_pred, bins = 20, label = 'train', kde = True, color = 'blue')\n",
        "sns.histplot(y_test - y_test_pred, bins = 20, label = 'test', kde = True, color = 'orange')\n",
        "plt.xlabel('errores')\n",
        "plt.legend()\n",
        "\n",
        "ax = plt.subplot(1,2,2)\n",
        "ax.scatter(y_test,y_test_pred, s =2, color = 'green')\n",
        "    \n",
        "lims = [\n",
        "    np.min([ax.get_xlim(), ax.get_ylim()]),  # min of both axes\n",
        "    np.max([ax.get_xlim(), ax.get_ylim()]),  # max of both axes\n",
        "       ]\n",
        "    \n",
        "ax.plot(lims, lims, 'k-', alpha=0.75, zorder=0)\n",
        "plt.xlabel('y (test)')\n",
        "plt.ylabel('y_pred (test)')\n",
        "   \n",
        "plt.tight_layout()\n",
        "plt.show()"
      ],
      "execution_count": null,
      "outputs": [
        {
          "output_type": "stream",
          "text": [
            "Raíz del error cuadrático medio en Train: 102448.03081206579\n",
            "Raíz del error cuadrático medio en Test: 103176.10820448629\n"
          ],
          "name": "stdout"
        },
        {
          "output_type": "display_data",
          "data": {
            "image/png": "[encoded data removed]",
            "text/plain": [
              "<Figure size 576x288 with 2 Axes>"
            ]
          },
          "metadata": {
            "tags": []
          }
        }
      ]
    },
    {
      "cell_type": "markdown",
      "metadata": {
        "id": "JCnL2tHsul1J"
      },
      "source": [
        "> En el proyecto 1 se había elegido un árbol de decisión de profundidad 12 para estimar el precio de una propiedad en Capital Federal. La raíz del error cuadrático medio había sido de aproximadamente 170 000 USD.\n",
        "\n",
        "> Para este proyecto se aplicaron métodos de pretratamiento de datos como eliminación de valores atípicos, imputación de valores faltantes, encoding y escalado de datos.\n",
        "\n",
        "> Aplicando el mismo modelo sobre la misma selección de datos, pero con pretratamiento, el error cuadrático medio resultó ser de 100 000 USD."
      ]
    },
    {
      "cell_type": "markdown",
      "metadata": {
        "id": "g2I5tnFh1s21"
      },
      "source": [
        "\n",
        "\n",
        "---\n",
        "\n"
      ]
    },
    {
      "cell_type": "markdown",
      "metadata": {
        "id": "IVi_Md_S2TRs"
      },
      "source": [
        "> #### **Escalado de datos**"
      ]
    },
    {
      "cell_type": "code",
      "metadata": {
        "colab": {
          "base_uri": "https://localhost:8080/"
        },
        "id": "ywjFg7zGCNx5",
        "outputId": "79626717-504d-4934-a0c3-e720c90da627"
      },
      "source": [
        "scal = StandardScaler()\n",
        "scal.fit(prope[['lat', 'lon', 'rooms', 'bedrooms', 'bathrooms', 'surface_total', 'surface_covered', 'price_m2']])\n",
        "prope[['lat', 'lon', 'rooms', 'bedrooms', 'bathrooms', 'surface_total', 'surface_covered', 'price_m2']] = scal.transform(prope[['lat', 'lon', 'rooms', 'bedrooms', 'bathrooms', 'surface_total', 'surface_covered', 'price_m2']])\n",
        "prope.head()"
      ],
      "execution_count": null,
      "outputs": [
        {
          "output_type": "execute_result",
          "data": {
            "text/html": [
              "<div>\n",
              "<style scoped>\n",
              "    .dataframe tbody tr th:only-of-type {\n",
              "        vertical-align: middle;\n",
              "    }\n",
              "\n",
              "    .dataframe tbody tr th {\n",
              "        vertical-align: top;\n",
              "    }\n",
              "\n",
              "    .dataframe thead th {\n",
              "        text-align: right;\n",
              "    }\n",
              "</style>\n",
              "<table border=\"1\" class=\"dataframe\">\n",
              "  <thead>\n",
              "    <tr style=\"text-align: right;\">\n",
              "      <th></th>\n",
              "      <th>surface_covered</th>\n",
              "      <th>rooms</th>\n",
              "      <th>l3</th>\n",
              "      <th>start_date</th>\n",
              "      <th>end_date</th>\n",
              "      <th>created_on</th>\n",
              "      <th>lat</th>\n",
              "      <th>lon</th>\n",
              "      <th>l1</th>\n",
              "      <th>l2</th>\n",
              "      <th>bedrooms</th>\n",
              "      <th>bathrooms</th>\n",
              "      <th>surface_total</th>\n",
              "      <th>price</th>\n",
              "      <th>currency</th>\n",
              "      <th>title</th>\n",
              "      <th>description</th>\n",
              "      <th>property_type</th>\n",
              "      <th>operation_type</th>\n",
              "      <th>price_m2</th>\n",
              "    </tr>\n",
              "  </thead>\n",
              "  <tbody>\n",
              "    <tr>\n",
              "      <th>0</th>\n",
              "      <td>0.816870</td>\n",
              "      <td>3.225944</td>\n",
              "      <td>San Cristobal</td>\n",
              "      <td>2019-10-17</td>\n",
              "      <td>2019-12-23</td>\n",
              "      <td>2019-10-17</td>\n",
              "      <td>-0.007871</td>\n",
              "      <td>0.173076</td>\n",
              "      <td>Argentina</td>\n",
              "      <td>Capital Federal</td>\n",
              "      <td>4.751484</td>\n",
              "      <td>0.580849</td>\n",
              "      <td>-0.140980</td>\n",
              "      <td>153000.0</td>\n",
              "      <td>USD</td>\n",
              "      <td>***Venta semipiso centro, ideal hostel*****</td>\n",
              "      <td>DESCRIPCION DE LA PROPIEDAD: Departamento de 1...</td>\n",
              "      <td>Departamento</td>\n",
              "      <td>Venta</td>\n",
              "      <td>-0.798714</td>\n",
              "    </tr>\n",
              "    <tr>\n",
              "      <th>1</th>\n",
              "      <td>-0.395581</td>\n",
              "      <td>-0.799434</td>\n",
              "      <td>Boedo</td>\n",
              "      <td>2019-10-17</td>\n",
              "      <td>2019-11-21</td>\n",
              "      <td>2019-10-17</td>\n",
              "      <td>-0.046903</td>\n",
              "      <td>0.116880</td>\n",
              "      <td>Argentina</td>\n",
              "      <td>Capital Federal</td>\n",
              "      <td>-0.869534</td>\n",
              "      <td>0.580849</td>\n",
              "      <td>-0.388980</td>\n",
              "      <td>159000.0</td>\n",
              "      <td>USD</td>\n",
              "      <td>Espectacular PH reciclado en Boedo sin expensas.</td>\n",
              "      <td>PH reciclado en Boedo a una cuadra de la plaz...</td>\n",
              "      <td>PH</td>\n",
              "      <td>Venta</td>\n",
              "      <td>0.165901</td>\n",
              "    </tr>\n",
              "    <tr>\n",
              "      <th>2</th>\n",
              "      <td>-0.587799</td>\n",
              "      <td>-0.799434</td>\n",
              "      <td>Palermo</td>\n",
              "      <td>2019-10-17</td>\n",
              "      <td>2019-11-01</td>\n",
              "      <td>2019-10-17</td>\n",
              "      <td>0.018566</td>\n",
              "      <td>0.085092</td>\n",
              "      <td>Argentina</td>\n",
              "      <td>Capital Federal</td>\n",
              "      <td>-0.869534</td>\n",
              "      <td>-0.671592</td>\n",
              "      <td>-0.477551</td>\n",
              "      <td>125000.0</td>\n",
              "      <td>USD</td>\n",
              "      <td>Depto.tipo casa de 2 ambientes en Venta en Pal...</td>\n",
              "      <td>2 ambienets amplio , excelente estado , patio ...</td>\n",
              "      <td>PH</td>\n",
              "      <td>Venta</td>\n",
              "      <td>0.580328</td>\n",
              "    </tr>\n",
              "    <tr>\n",
              "      <th>3</th>\n",
              "      <td>-0.513869</td>\n",
              "      <td>-0.799434</td>\n",
              "      <td>Palermo</td>\n",
              "      <td>2019-10-17</td>\n",
              "      <td>2019-12-23</td>\n",
              "      <td>2019-10-17</td>\n",
              "      <td>0.044926</td>\n",
              "      <td>0.065891</td>\n",
              "      <td>Argentina</td>\n",
              "      <td>Capital Federal</td>\n",
              "      <td>-0.869534</td>\n",
              "      <td>-0.671592</td>\n",
              "      <td>-0.335837</td>\n",
              "      <td>295000.0</td>\n",
              "      <td>USD</td>\n",
              "      <td>COSTA RICA 5800 / PALERMO HOLLYWOOD / VENTA PH...</td>\n",
              "      <td>HERMOSO PH EN PALERMO!!!2 AMBIENTES TOTALMENTE...</td>\n",
              "      <td>PH</td>\n",
              "      <td>Venta</td>\n",
              "      <td>1.147367</td>\n",
              "    </tr>\n",
              "    <tr>\n",
              "      <th>4</th>\n",
              "      <td>-0.735659</td>\n",
              "      <td>-0.799434</td>\n",
              "      <td>La Plata</td>\n",
              "      <td>2019-10-17</td>\n",
              "      <td>2020-03-11</td>\n",
              "      <td>2019-10-17</td>\n",
              "      <td>-0.669968</td>\n",
              "      <td>1.097369</td>\n",
              "      <td>Argentina</td>\n",
              "      <td>Bs.As. G.B.A. Zona Sur</td>\n",
              "      <td>-0.869534</td>\n",
              "      <td>-0.671592</td>\n",
              "      <td>-0.459837</td>\n",
              "      <td>40000.0</td>\n",
              "      <td>USD</td>\n",
              "      <td>58 entre 1 y 2  Venta de departamento en ph.1 ...</td>\n",
              "      <td>58 entre 1 y 2  Venta de departamento en PH. P...</td>\n",
              "      <td>PH</td>\n",
              "      <td>Venta</td>\n",
              "      <td>-1.038406</td>\n",
              "    </tr>\n",
              "  </tbody>\n",
              "</table>\n",
              "</div>"
            ],
            "text/plain": [
              "   surface_covered     rooms  ... operation_type  price_m2\n",
              "0         0.816870  3.225944  ...          Venta -0.798714\n",
              "1        -0.395581 -0.799434  ...          Venta  0.165901\n",
              "2        -0.587799 -0.799434  ...          Venta  0.580328\n",
              "3        -0.513869 -0.799434  ...          Venta  1.147367\n",
              "4        -0.735659 -0.799434  ...          Venta -1.038406\n",
              "\n",
              "[5 rows x 20 columns]"
            ]
          },
          "metadata": {
            "tags": []
          },
          "execution_count": 41
        }
      ]
    },
    {
      "cell_type": "markdown",
      "metadata": {
        "id": "hir-vNrX4ISB"
      },
      "source": [
        "> #### ***One-hot encoding* para los tipos de propiedad**"
      ]
    },
    {
      "cell_type": "code",
      "metadata": {
        "id": "YJU_46kva5lG"
      },
      "source": [
        "# el tipo de propiedad es una variable categórica en donde no existe relacion de orden\n",
        "# por este motivo se aplica one-hot encoding\n",
        "\n",
        "prope = pd.get_dummies(prope, columns = ['property_type'])\n"
      ],
      "execution_count": null,
      "outputs": []
    },
    {
      "cell_type": "code",
      "metadata": {
        "id": "fvxaPRdC0ty-"
      },
      "source": [
        "# descarto las columnas que considero que no aportan información relevante para alcanzar el objetivo del proyecto\n",
        "prope = prope.drop(['created_on', 'start_date', 'end_date', 'l1', 'l2', 'l3', 'currency', 'title', 'description', 'operation_type'], axis=1)"
      ],
      "execution_count": null,
      "outputs": []
    },
    {
      "cell_type": "code",
      "metadata": {
        "colab": {
          "base_uri": "https://localhost:8080/"
        },
        "id": "Y2kEoM3V6luk",
        "outputId": "4c7a6908-23e5-4cbb-c05b-57c1685d5e28"
      },
      "source": [
        "prope.shape"
      ],
      "execution_count": null,
      "outputs": [
        {
          "output_type": "execute_result",
          "data": {
            "text/plain": [
              "(138712, 19)"
            ]
          },
          "metadata": {
            "tags": []
          },
          "execution_count": 44
        }
      ]
    },
    {
      "cell_type": "code",
      "metadata": {
        "colab": {
          "base_uri": "https://localhost:8080/",
          "height": 238
        },
        "id": "5J7XnqaDMBCI",
        "outputId": "1ca64fd6-2e13-4f42-c2a1-d36b752ea971"
      },
      "source": [
        "prope.head()"
      ],
      "execution_count": null,
      "outputs": [
        {
          "output_type": "execute_result",
          "data": {
            "text/html": [
              "<div>\n",
              "<style scoped>\n",
              "    .dataframe tbody tr th:only-of-type {\n",
              "        vertical-align: middle;\n",
              "    }\n",
              "\n",
              "    .dataframe tbody tr th {\n",
              "        vertical-align: top;\n",
              "    }\n",
              "\n",
              "    .dataframe thead th {\n",
              "        text-align: right;\n",
              "    }\n",
              "</style>\n",
              "<table border=\"1\" class=\"dataframe\">\n",
              "  <thead>\n",
              "    <tr style=\"text-align: right;\">\n",
              "      <th></th>\n",
              "      <th>surface_covered</th>\n",
              "      <th>rooms</th>\n",
              "      <th>lat</th>\n",
              "      <th>lon</th>\n",
              "      <th>bedrooms</th>\n",
              "      <th>bathrooms</th>\n",
              "      <th>surface_total</th>\n",
              "      <th>price</th>\n",
              "      <th>price_m2</th>\n",
              "      <th>property_type_Casa</th>\n",
              "      <th>property_type_Casa de campo</th>\n",
              "      <th>property_type_Cochera</th>\n",
              "      <th>property_type_Departamento</th>\n",
              "      <th>property_type_Depósito</th>\n",
              "      <th>property_type_Local comercial</th>\n",
              "      <th>property_type_Lote</th>\n",
              "      <th>property_type_Oficina</th>\n",
              "      <th>property_type_Otro</th>\n",
              "      <th>property_type_PH</th>\n",
              "    </tr>\n",
              "  </thead>\n",
              "  <tbody>\n",
              "    <tr>\n",
              "      <th>0</th>\n",
              "      <td>0.816870</td>\n",
              "      <td>3.225944</td>\n",
              "      <td>-0.007871</td>\n",
              "      <td>0.173076</td>\n",
              "      <td>4.751484</td>\n",
              "      <td>0.580849</td>\n",
              "      <td>-0.140980</td>\n",
              "      <td>153000.0</td>\n",
              "      <td>-0.798714</td>\n",
              "      <td>0</td>\n",
              "      <td>0</td>\n",
              "      <td>0</td>\n",
              "      <td>1</td>\n",
              "      <td>0</td>\n",
              "      <td>0</td>\n",
              "      <td>0</td>\n",
              "      <td>0</td>\n",
              "      <td>0</td>\n",
              "      <td>0</td>\n",
              "    </tr>\n",
              "    <tr>\n",
              "      <th>1</th>\n",
              "      <td>-0.395581</td>\n",
              "      <td>-0.799434</td>\n",
              "      <td>-0.046903</td>\n",
              "      <td>0.116880</td>\n",
              "      <td>-0.869534</td>\n",
              "      <td>0.580849</td>\n",
              "      <td>-0.388980</td>\n",
              "      <td>159000.0</td>\n",
              "      <td>0.165901</td>\n",
              "      <td>0</td>\n",
              "      <td>0</td>\n",
              "      <td>0</td>\n",
              "      <td>0</td>\n",
              "      <td>0</td>\n",
              "      <td>0</td>\n",
              "      <td>0</td>\n",
              "      <td>0</td>\n",
              "      <td>0</td>\n",
              "      <td>1</td>\n",
              "    </tr>\n",
              "    <tr>\n",
              "      <th>2</th>\n",
              "      <td>-0.587799</td>\n",
              "      <td>-0.799434</td>\n",
              "      <td>0.018566</td>\n",
              "      <td>0.085092</td>\n",
              "      <td>-0.869534</td>\n",
              "      <td>-0.671592</td>\n",
              "      <td>-0.477551</td>\n",
              "      <td>125000.0</td>\n",
              "      <td>0.580328</td>\n",
              "      <td>0</td>\n",
              "      <td>0</td>\n",
              "      <td>0</td>\n",
              "      <td>0</td>\n",
              "      <td>0</td>\n",
              "      <td>0</td>\n",
              "      <td>0</td>\n",
              "      <td>0</td>\n",
              "      <td>0</td>\n",
              "      <td>1</td>\n",
              "    </tr>\n",
              "    <tr>\n",
              "      <th>3</th>\n",
              "      <td>-0.513869</td>\n",
              "      <td>-0.799434</td>\n",
              "      <td>0.044926</td>\n",
              "      <td>0.065891</td>\n",
              "      <td>-0.869534</td>\n",
              "      <td>-0.671592</td>\n",
              "      <td>-0.335837</td>\n",
              "      <td>295000.0</td>\n",
              "      <td>1.147367</td>\n",
              "      <td>0</td>\n",
              "      <td>0</td>\n",
              "      <td>0</td>\n",
              "      <td>0</td>\n",
              "      <td>0</td>\n",
              "      <td>0</td>\n",
              "      <td>0</td>\n",
              "      <td>0</td>\n",
              "      <td>0</td>\n",
              "      <td>1</td>\n",
              "    </tr>\n",
              "    <tr>\n",
              "      <th>4</th>\n",
              "      <td>-0.735659</td>\n",
              "      <td>-0.799434</td>\n",
              "      <td>-0.669968</td>\n",
              "      <td>1.097369</td>\n",
              "      <td>-0.869534</td>\n",
              "      <td>-0.671592</td>\n",
              "      <td>-0.459837</td>\n",
              "      <td>40000.0</td>\n",
              "      <td>-1.038406</td>\n",
              "      <td>0</td>\n",
              "      <td>0</td>\n",
              "      <td>0</td>\n",
              "      <td>0</td>\n",
              "      <td>0</td>\n",
              "      <td>0</td>\n",
              "      <td>0</td>\n",
              "      <td>0</td>\n",
              "      <td>0</td>\n",
              "      <td>1</td>\n",
              "    </tr>\n",
              "  </tbody>\n",
              "</table>\n",
              "</div>"
            ],
            "text/plain": [
              "   surface_covered     rooms  ...  property_type_Otro  property_type_PH\n",
              "0         0.816870  3.225944  ...                   0                 0\n",
              "1        -0.395581 -0.799434  ...                   0                 1\n",
              "2        -0.587799 -0.799434  ...                   0                 1\n",
              "3        -0.513869 -0.799434  ...                   0                 1\n",
              "4        -0.735659 -0.799434  ...                   0                 1\n",
              "\n",
              "[5 rows x 19 columns]"
            ]
          },
          "metadata": {
            "tags": []
          },
          "execution_count": 45
        }
      ]
    },
    {
      "cell_type": "markdown",
      "metadata": {
        "id": "pPLADk5d985t"
      },
      "source": [
        "##PARTE B - Modelos Avanzados\n",
        "\n",
        "\n",
        "1.   Elige dos de los modelos avanzados vistos. Compara con el desempeño obtenido en el proyecto 01 (en el caso de regresión, considera una regresión lineal con atributos polinómicos y regularización). Entrénalos y evalúalos con sus argumentos por defecto. No te olvides de hacer un train/test split y usar Validación Cruzada.\n",
        "\n",
        "2.   Optimiza sus hiperparámetros mediante Validación Cruzada y Grid Search o Random Search.\n",
        "\n",
        "3.    Compara el desempeño de los nuevos modelos entre sí y con el modelo de la Parte A. ¿Cuál elegirías? Justifica."
      ]
    },
    {
      "cell_type": "code",
      "metadata": {
        "id": "tRWnzAZ2WYi6"
      },
      "source": [
        "# train test split sobre los datos\n",
        "\n",
        "X = prope.drop(['price'], axis = 1)\n",
        "y = prope['price']\n",
        "\n",
        "X_train, X_test, y_train, y_test = train_test_split(X, y, test_size=0.30, random_state=42)"
      ],
      "execution_count": null,
      "outputs": []
    },
    {
      "cell_type": "markdown",
      "metadata": {
        "id": "ZrNRCELgd2BH"
      },
      "source": [
        "##### · Bagging"
      ]
    },
    {
      "cell_type": "code",
      "metadata": {
        "colab": {
          "base_uri": "https://localhost:8080/"
        },
        "id": "zy1IC3uZYpPw",
        "outputId": "66826863-d7ae-4acb-8d64-53a3ed6f189e"
      },
      "source": [
        "# se crea y entrena el modelo\n",
        "\n",
        "rfr = RandomForestRegressor(\n",
        "            n_estimators = 100,          #(default)\n",
        "            criterion    = 'mse',\n",
        "            max_depth    = None,\n",
        "            max_features = 'auto',\n",
        "            oob_score    = False,\n",
        "            n_jobs       = -1\n",
        "            #,\n",
        "            #random_state = 123\n",
        "         )\n",
        "\n",
        "rfr.fit(X_train, y_train)"
      ],
      "execution_count": null,
      "outputs": [
        {
          "output_type": "execute_result",
          "data": {
            "text/plain": [
              "RandomForestRegressor(bootstrap=True, ccp_alpha=0.0, criterion='mse',\n",
              "                      max_depth=None, max_features='auto', max_leaf_nodes=None,\n",
              "                      max_samples=None, min_impurity_decrease=0.0,\n",
              "                      min_impurity_split=None, min_samples_leaf=1,\n",
              "                      min_samples_split=2, min_weight_fraction_leaf=0.0,\n",
              "                      n_estimators=100, n_jobs=-1, oob_score=False,\n",
              "                      random_state=None, verbose=0, warm_start=False)"
            ]
          },
          "metadata": {
            "tags": []
          },
          "execution_count": 48
        }
      ]
    },
    {
      "cell_type": "code",
      "metadata": {
        "colab": {
          "base_uri": "https://localhost:8080/"
        },
        "id": "p4vfkGajbCtb",
        "outputId": "d1643039-fc37-48c3-c468-92d61a4fccbe"
      },
      "source": [
        "# predicciones del modelo inicial\n",
        "\n",
        "predi = rfr.predict(X = X_test)\n",
        "\n",
        "rmse = mean_squared_error(\n",
        "        y_true  = y_test,\n",
        "        y_pred  = predi,\n",
        "        squared = False\n",
        "       )\n",
        "print(f\"El error (rmse) de test es: {rmse}\")"
      ],
      "execution_count": null,
      "outputs": [
        {
          "output_type": "stream",
          "text": [
            "El error (rmse) de test es: 6025.094577145985\n"
          ],
          "name": "stdout"
        }
      ]
    },
    {
      "cell_type": "code",
      "metadata": {
        "colab": {
          "base_uri": "https://localhost:8080/",
          "height": 305
        },
        "id": "ppaXi19wcCZj",
        "outputId": "b3b6c838-03c0-4aa0-c277-526d3cd5ba8c"
      },
      "source": [
        "# Optimización de hiperparámetros\n",
        "# Validación empleando el Out-of-Bag error\n",
        "\n",
        "train_scores = []\n",
        "oob_scores   = []\n",
        "\n",
        "# Valores evaluados\n",
        "estimator_range = [50,100,250,500,1000]\n",
        "\n",
        "# Bucle para entrenar un modelo con cada valor de n_estimators y extraer su error\n",
        "# de entrenamiento y de Out-of-Bag.\n",
        "for n_estimators in estimator_range:\n",
        "    modelo = RandomForestRegressor(\n",
        "                n_estimators = n_estimators,\n",
        "                criterion    = 'mse',\n",
        "                max_depth    = None,\n",
        "                max_features = 'auto',\n",
        "                oob_score    = True,\n",
        "                n_jobs       = -1,\n",
        "                random_state = 123\n",
        "             )\n",
        "    modelo.fit(X_train, y_train)\n",
        "    train_scores.append(modelo.score(X_train, y_train))\n",
        "    oob_scores.append(modelo.oob_score_)\n",
        "    \n",
        "# Gráfico con la evolución de los errores\n",
        "fig, ax = plt.subplots(figsize=(6, 3.84))\n",
        "ax.plot(estimator_range, train_scores, label=\"train scores\")\n",
        "ax.plot(estimator_range, oob_scores, label=\"out-of-bag scores\")\n",
        "ax.plot(estimator_range[np.argmax(oob_scores)], max(oob_scores),\n",
        "        marker='o', color = \"red\", label=\"max score\")\n",
        "ax.set_ylabel(\"R^2\")\n",
        "ax.set_xlabel(\"n_estimators\")\n",
        "ax.set_title(\"Evolución del out-of-bag-error vs número árboles\")\n",
        "plt.legend();\n",
        "print(f\"Valor óptimo de n_estimators: {estimator_range[np.argmax(oob_scores)]}\")"
      ],
      "execution_count": null,
      "outputs": [
        {
          "output_type": "stream",
          "text": [
            "Valor óptimo de n_estimators: 1000\n"
          ],
          "name": "stdout"
        },
        {
          "output_type": "display_data",
          "data": {
            "image/png": "[encoded data removed]",
            "text/plain": [
              "<Figure size 432x276.48 with 1 Axes>"
            ]
          },
          "metadata": {
            "tags": []
          }
        }
      ]
    },
    {
      "cell_type": "code",
      "metadata": {
        "colab": {
          "background_save": true
        },
        "id": "pL0dFtXn5oMh",
        "outputId": "6e6a7846-0a86-41f1-a31e-095f8119fe5c"
      },
      "source": [
        "# Repito Optimización de hiperparámetros\n",
        "\n",
        "train_scores = []\n",
        "oob_scores   = []\n",
        "\n",
        "# Valores evaluados\n",
        "estimator_range = range(1000, 1500, 100)\n",
        "\n",
        "# Bucle para entrenar un modelo con cada valor de n_estimators y extraer su error\n",
        "# de entrenamiento y de Out-of-Bag.\n",
        "for n_estimators in estimator_range:\n",
        "    modelo = RandomForestRegressor(\n",
        "                n_estimators = n_estimators,\n",
        "                criterion    = 'mse',\n",
        "                max_depth    = None,\n",
        "                max_features = 'auto',\n",
        "                oob_score    = True,\n",
        "                n_jobs       = -1,\n",
        "                random_state = 123\n",
        "             )\n",
        "    modelo.fit(X_train, y_train)\n",
        "    train_scores.append(modelo.score(X_train, y_train))\n",
        "    oob_scores.append(modelo.oob_score_)\n",
        "    \n",
        "# Gráfico con la evolución de los errores\n",
        "fig, ax = plt.subplots(figsize=(6, 3.84))\n",
        "ax.plot(estimator_range, train_scores, label=\"train scores\")\n",
        "ax.plot(estimator_range, oob_scores, label=\"out-of-bag scores\")\n",
        "ax.plot(estimator_range[np.argmax(oob_scores)], max(oob_scores),\n",
        "        marker='o', color = \"red\", label=\"max score\")\n",
        "ax.set_ylabel(\"R^2\")\n",
        "ax.set_xlabel(\"n_estimators\")\n",
        "ax.set_title(\"Evolución del out-of-bag-error vs número árboles\")\n",
        "plt.legend();\n",
        "print(f\"Valor óptimo de n_estimators: {estimator_range[np.argmax(oob_scores)]}\")"
      ],
      "execution_count": null,
      "outputs": [
        {
          "output_type": "stream",
          "text": [
            "Valor óptimo de n_estimators: 1100\n"
          ],
          "name": "stdout"
        },
        {
          "output_type": "display_data",
          "data": {
            "image/png": "[encoded data removed]",
            "text/plain": [
              "<Figure size 432x276.48 with 1 Axes>"
            ]
          },
          "metadata": {
            "tags": []
          }
        }
      ]
    },
    {
      "cell_type": "code",
      "metadata": {
        "id": "53B36zLB0rpn",
        "colab": {
          "base_uri": "https://localhost:8080/"
        },
        "outputId": "5f6342bd-f152-45df-a927-b6485d7a7a34"
      },
      "source": [
        "# cálculo de rmse para forest de 1100\n",
        "\n",
        "rfr1100 = RandomForestRegressor(n_estimators = 1100)\n",
        "rfr1100.fit(X_train, y_train)\n",
        "predi1100 = rfr1100.predict(X = X_test)\n",
        "\n",
        "rmse1100 = mean_squared_error(\n",
        "        y_true  = y_test,\n",
        "        y_pred  = predi1100,\n",
        "        squared = False\n",
        "       )\n",
        "print(f\"El error (rmse) de test es: {rmse1100}\")"
      ],
      "execution_count": null,
      "outputs": [
        {
          "output_type": "stream",
          "text": [
            "El error (rmse) de test es: 5887.770233719342\n"
          ],
          "name": "stdout"
        }
      ]
    },
    {
      "cell_type": "markdown",
      "metadata": {
        "id": "BCm4rRysOOm9"
      },
      "source": [
        "##### · Boosting"
      ]
    },
    {
      "cell_type": "code",
      "metadata": {
        "id": "nodfwRrcdu_Q",
        "colab": {
          "base_uri": "https://localhost:8080/"
        },
        "outputId": "f1807db3-0daa-4a3c-b797-1c8073b43eca"
      },
      "source": [
        "# boosting con gridsearch\n",
        "\n",
        "from sklearn.model_selection import GridSearchCV\n",
        "from sklearn.ensemble import GradientBoostingRegressor\n",
        "\n",
        "GBR = GradientBoostingRegressor()\n",
        "\n",
        "# Grid de hiperparámetros evaluados\n",
        "parameters = {'learning_rate': [0.01,0.02,0.03,0.04], # learning rate permite controlar cuan rápido aprende el modelo y con ello el riesgo de llegar al overfitting\n",
        "                  'subsample'    : [0.9, 0.5, 0.2, 0.1],\n",
        "                  'n_estimators' : [10,50,100,500],\n",
        "                  'max_depth'    : [1,2,3]\n",
        "              }\n",
        "\n",
        "# Búsqueda por grid search con validación cruzada\n",
        "grid_GBR = GridSearchCV(estimator=GBR, #estimator: In this we have to pass the models or functions on which we want to use GridSearchCV\n",
        "                        param_grid = parameters, \n",
        "                        cv = 2, #cv : In this we have to pass a interger value, as it signifies the number of splits that is needed for cross validation. By default is set as five.\n",
        "                        n_jobs=-1)\n",
        "\n",
        "grid_GBR.fit(X_train, y_train)\n",
        "\n",
        "# Resultados\n",
        "print(\" Results from Grid Search \" )\n",
        "print(\"\\n The best estimator across ALL searched params:\\n\",grid_GBR.best_estimator_)\n",
        "print(\"\\n The best score across ALL searched params:\\n\",grid_GBR.best_score_)\n",
        "print(\"\\n The best parameters across ALL searched params:\\n\",grid_GBR.best_params_)"
      ],
      "execution_count": null,
      "outputs": [
        {
          "output_type": "stream",
          "text": [
            " Results from Grid Search \n",
            "\n",
            " The best estimator across ALL searched params:\n",
            " GradientBoostingRegressor(alpha=0.9, ccp_alpha=0.0, criterion='friedman_mse',\n",
            "                          init=None, learning_rate=0.04, loss='ls', max_depth=3,\n",
            "                          max_features=None, max_leaf_nodes=None,\n",
            "                          min_impurity_decrease=0.0, min_impurity_split=None,\n",
            "                          min_samples_leaf=1, min_samples_split=2,\n",
            "                          min_weight_fraction_leaf=0.0, n_estimators=500,\n",
            "                          n_iter_no_change=None, presort='deprecated',\n",
            "                          random_state=None, subsample=0.5, tol=0.0001,\n",
            "                          validation_fraction=0.1, verbose=0, warm_start=False)\n",
            "\n",
            " The best score across ALL searched params:\n",
            " 0.9918709925533584\n",
            "\n",
            " The best parameters across ALL searched params:\n",
            " {'learning_rate': 0.04, 'max_depth': 3, 'n_estimators': 500, 'subsample': 0.5}\n"
          ],
          "name": "stdout"
        }
      ]
    },
    {
      "cell_type": "code",
      "metadata": {
        "id": "CuJlK79vk7l1",
        "colab": {
          "base_uri": "https://localhost:8080/"
        },
        "outputId": "cb4c54e6-7537-4ab0-8051-9e54d53bb4ec"
      },
      "source": [
        "# Error de test del modelo final\n",
        "\n",
        "modelo_final = grid_GBR.best_estimator_\n",
        "predicciones = modelo_final.predict(X = X_test)\n",
        "rmse = mean_squared_error(\n",
        "        y_true  = y_test,\n",
        "        y_pred  = predicciones,\n",
        "        squared = False\n",
        "       )\n",
        "print(f\"El error (rmse) de test es: {rmse}\")"
      ],
      "execution_count": null,
      "outputs": [
        {
          "output_type": "stream",
          "text": [
            "El error (rmse) de test es: 13506.15692810339\n"
          ],
          "name": "stdout"
        }
      ]
    },
    {
      "cell_type": "markdown",
      "metadata": {
        "id": "DDK0h02S20kb"
      },
      "source": [
        "El error cuadrático medio que se estimó con la metodología bagging fue de alrededor de 5800 USD. Esto representa un valor mucho menor al obtenido en la parte A.\n",
        "\n",
        "Los hiperparámetros fueron optimizados mediante el empleo de GridSearch en el caso de boosting, mientras que para el bagging la optimización fue manual.\n",
        "\n",
        "Si bien el requerimiento computacional es mayor que en el proyecto 1, la diferencia en los valores de RMSE hace que valga la pena."
      ]
    },
    {
      "cell_type": "markdown",
      "metadata": {
        "id": "4alEHDIs-GUX"
      },
      "source": [
        "##PARTE C - Interpretación de modelos\n",
        "\n",
        "De acuerdo a lo que el modelo permite, responde algunas o todas las siguientes preguntas:\n",
        "\n",
        "*   ¿Qué variables fueron relevantes para el modelo para hacer una predicción? ¿Cuáles no? Si usaste una regresión lineal con regularización, presta atención a los parámetros (pendientes) obtenidas. Si usaste un modelo de ensamble en árboles, además de ver la importancia de cada atributo, también elige algunos árboles al azar y observa qué atributos considera importantes. ¿En qué se diferencian esos árboles? ¿Por qué? Finalmente, responde, ¿coincide con lo que esperabas a partir de tu experiencia con este dataset?\n",
        "*   ¿Cómo es la distribución de errores (regresión) o qué clases se confunden entre sí (clasificación)? ¿Dónde falla? ¿A qué se debe?\n",
        "\n",
        "---\n",
        "\n",
        "DESAFÍO OPCIONAL\n",
        "\n",
        "Aplica una técnica de Clustering sobre el dataset. Puedes combinar con técnicas de reducción de dimensionalidad para facilitar la visualización. ¿Qué clusters encuentras? ¿A qué pueden corresponder? Te dejamos preguntas que pueden servir como disparadoras: ¿qué barrios se parecen más entre sí?¿qué tipos de propiedades se parecen más entre sí?"
      ]
    },
    {
      "cell_type": "code",
      "metadata": {
        "id": "Z6MiFjdJxKPq",
        "colab": {
          "base_uri": "https://localhost:8080/",
          "height": 445
        },
        "outputId": "72424d77-9f05-4bd9-a20d-2b474d9cfc18"
      },
      "source": [
        "# Análisis visual de la importancia de cada atributo en la predicción\n",
        "\n",
        "importances = rfr1100.feature_importances_\n",
        "columns = X.columns\n",
        "\n",
        "# Diccionario con las columnas\n",
        "lista_importances = list(importances)\n",
        "lista_columnas = list(columns)\n",
        "dicc = dict(zip(lista_columnas,lista_importances))\n",
        "\n",
        "# Orden\n",
        "import operator\n",
        "dicc = sorted(dicc.items(), key=operator.itemgetter(1), reverse = True)\n",
        "\n",
        "# Lista con el orden de importancia\n",
        "orden = []\n",
        "for columna, valor in dicc:\n",
        "    orden.append(columna)\n",
        "\n",
        "plt.figure(figsize=(8,6))\n",
        "sns.barplot(importances, columns, order = orden, palette='rocket')\n",
        "plt.xticks(rotation=0)\n",
        "plt.title('Importancia de cada Feature')\n",
        "plt.show()"
      ],
      "execution_count": null,
      "outputs": [
        {
          "output_type": "stream",
          "text": [
            "/usr/local/lib/python3.7/dist-packages/seaborn/_decorators.py:43: FutureWarning: Pass the following variables as keyword args: x, y. From version 0.12, the only valid positional argument will be `data`, and passing other arguments without an explicit keyword will result in an error or misinterpretation.\n",
            "  FutureWarning\n"
          ],
          "name": "stderr"
        },
        {
          "output_type": "display_data",
          "data": {
            "image/png": "[encoded data removed]",
            "text/plain": [
              "<Figure size 576x432 with 1 Axes>"
            ]
          },
          "metadata": {
            "tags": [],
            "needs_background": "light"
          }
        }
      ]
    },
    {
      "cell_type": "markdown",
      "metadata": {
        "id": "32I6XW47iNnG"
      },
      "source": [
        "Se puede observar que el precio del inmueble por m$^2$ es el atributo que más influye al momento de estimar el precio de una propiedad, algo que de hecho era esperado. Le siguen las superficies cubierta y total.\n",
        "\n",
        "En un principio hubiera creído que el tipo de propiedad influiría en su precio con más peso que la cantidad de baños. Por ejemplo, se esperaría que un departamento y una casa con la misma superficie cubierta no valieran lo mismo debido a que poseen diferencias en cuanto a la independencia en su acceso. Sin embargo, esto no se evidencia en la visualización de importancia de cada feature."
      ]
    },
    {
      "cell_type": "code",
      "metadata": {
        "id": "HHFMp6jehtSg",
        "colab": {
          "base_uri": "https://localhost:8080/",
          "height": 354
        },
        "outputId": "b8b4df70-7097-447f-b611-76de3f31adbc"
      },
      "source": [
        "# Errores\n",
        "\n",
        "rfr1100.fit(X_train, y_train)\n",
        "\n",
        "y_train_pred = rfr1100.predict(X_train)\n",
        "y_test_pred = rfr1100.predict(X_test)\n",
        "\n",
        "errores_train = y_train_pred - y_train\n",
        "errores_test = y_test_pred - y_test\n",
        "\n",
        "# Visualización de errores en la predicción del precio de los inmuebles\n",
        "sns.set()\n",
        "plt.figure(figsize = (10,4))\n",
        "\n",
        "# Errores train\n",
        "plt.subplot(1,2,1)\n",
        "sns.distplot(errores_train, bins = 30, label = 'train', x = prope['price'], kde = False)\n",
        "plt.xlabel('Precios de inmuebles')\n",
        "plt.ylabel('Errores sobre el grupo de entrenamiento')\n",
        "plt.legend();\n",
        "\n",
        "# Errores test\n",
        "plt.subplot(1,2,2)\n",
        "sns.distplot(errores_test, bins = 30, label = 'test', x = prope['price'], kde = False, color = 'red')\n",
        "plt.xlabel('Precios de inmuebles')\n",
        "plt.ylabel('Errores sobre el grupo de prueba')\n",
        "plt.legend();\n"
      ],
      "execution_count": null,
      "outputs": [
        {
          "output_type": "stream",
          "text": [
            "/usr/local/lib/python3.7/dist-packages/seaborn/distributions.py:2557: FutureWarning: `distplot` is a deprecated function and will be removed in a future version. Please adapt your code to use either `displot` (a figure-level function with similar flexibility) or `histplot` (an axes-level function for histograms).\n",
            "  warnings.warn(msg, FutureWarning)\n"
          ],
          "name": "stderr"
        },
        {
          "output_type": "display_data",
          "data": {
            "image/png": "[encoded data removed]",
            "text/plain": [
              "<Figure size 720x288 with 2 Axes>"
            ]
          },
          "metadata": {
            "tags": []
          }
        }
      ]
    },
    {
      "cell_type": "markdown",
      "metadata": {
        "id": "TeKWxt_OiZ4x"
      },
      "source": [
        "Se observan distribuciones similares en los errores tanto para los conjuntos de test como de train. En ambos casos el pico de errores ocurre en los inmuebles que poseen un precio de alrededor de 100.000 USD."
      ]
    },
    {
      "cell_type": "markdown",
      "metadata": {
        "id": "0coI-QzDino9"
      },
      "source": [
        "**Discusión y conclusiones**\n",
        "\n",
        "En este proyecto 2 fue posible realizar un preprocesamiento adecuado de los datos que permitiera desarrollar un modelo que prediga el precio de una propiedad. En la sección A fueron detallados cada uno de ellos. Esta serie de mejoras se reflejaron en una disminución del error cuadrático medio en comparación con los resultados obtenidos en el proyecto 1.\n",
        "\n",
        "Luego se procedió a aplicar modelos avanzados de machine learning que mejoraran aun más las estimaciones de los precios. Se llevaron a cabo tareas de bagging y boosting con sus respectivas optimizaciones de hiperparámetros. Estas metodologías arrojaron valores que resultan más que satisfactorios en el marco del objetivo de este trabajo.\n",
        "\n",
        "\n",
        "---\n",
        "\n"
      ]
    },
    {
      "cell_type": "markdown",
      "metadata": {
        "id": "cQpFZ9AE-Uwt"
      },
      "source": [
        "##Checklist de evaluación\n",
        "Sugerencias para desarrollar el proyecto:\n",
        "\n",
        "* Este proyecto no cuenta con mínimos entregables indicados en la consigna, pero ten en cuenta lo siguiente:\n",
        " * en la Parte A debes implementar al menos tres de las transformaciones de datos propuestas.\n",
        " * en la Parte B, al menos un modelo debe ser optimizado por Grid Search o Random Search; el otro puede ser optimizado por búsqueda manual (es decir, puedes dejar los mejores parámetros que encontraste probando).\n",
        " * en la Parte C, debes responder al menos una pregunta. Obviamente, ¡cuanto más hagas, más aprenderás y mejor será tu proyecto!\n",
        "\n",
        "* La resolución del proyecto te puede enfrentar a pequeños desafíos que no trabajamos durante los encuentros. Es importante que desarrolles la capacidad de resolverlos. Para ello, consulta las bitácoras, las referencias, los notebooks vistos en clase, la documentación de la librería y, sobre todo, googlea.\n",
        "\n",
        "Antes de subir tu proyecto a la plataforma Acámica para que sea evaluado, verifica que el Notebook se ejecute sin errores. Además, asegúrate de cumplir con las siguientes condiciones (son las que los/as evaluadores/as tendrán en consideración al momento de corregir tu trabajo):\n",
        "\n",
        "###PARTE A - Transformación de Datos\n",
        "\n",
        "1.    Debes justificar por qué creés que las transformaciones elegidas aplican en este dataset. Ten en cuenta que, en el manejo de valores atípicos o en la imputación de valores faltantes, los valores obtenidos deben tener sentido. Por ejemplo, valores mayores que cero para superficies, número de baños, etc.\n",
        "2.    Debes re entrenar un modelo del Proyecto 01 y comparar su desempeño con el modelo obtenido en el Proyecto 01. Una aclaración: con reentrenar nos referimos a usar el mismo proceso de entrenamiento junto con sus hiperparámetros. Pero puede ocurrir - y, de hecho, se espera - que el dataset contenga más atributos que los utilizados en el Proyecto 01.\n",
        "\n",
        "###PARTE B - Modelos Avanzados\n",
        "\n",
        "En la optimización de hiperparámetros, debes justificar los parámetros que elegiste para optimizar y el rango de cada uno.\n",
        "\n",
        "###PARTE C - Interpretación de modelos\n",
        "\n",
        "1. Debes estudiar qué variables utiliza el modelo para predecir y responder la pregunta: ¿coincide con lo que esperabas a partir de tu experiencia con este dataset?\n",
        "2. Es muy importante que analices los errores del modelo. ¿Dónde es mayor el error? ¿dónde acierta?\n",
        "3. Debes ser crítico/a con la metodología utilizada. ¿Qué mejorarías? Ten en cuenta siempre terminar con una discusión sobre lo realizado y conclusiones obtenidas."
      ]
    }
  ]
}